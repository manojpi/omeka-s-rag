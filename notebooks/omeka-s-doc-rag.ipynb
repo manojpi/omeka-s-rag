{
 "cells": [
  {
   "cell_type": "code",
   "execution_count": 1,
   "metadata": {},
   "outputs": [
    {
     "data": {
      "text/plain": [
       "True"
      ]
     },
     "execution_count": 1,
     "metadata": {},
     "output_type": "execute_result"
    }
   ],
   "source": [
    "import os\n",
    "from dotenv import load_dotenv\n",
    "\n",
    "load_dotenv()"
   ]
  },
  {
   "cell_type": "code",
   "execution_count": 2,
   "metadata": {},
   "outputs": [],
   "source": [
    "local_llm = 'llama3'"
   ]
  },
  {
   "cell_type": "code",
   "execution_count": 3,
   "metadata": {},
   "outputs": [
    {
     "name": "stderr",
     "output_type": "stream",
     "text": [
      "/opt/anaconda3/envs/nlp-fall/lib/python3.12/site-packages/pydantic/_internal/_fields.py:161: UserWarning: Field \"model_name\" has conflict with protected namespace \"model_\".\n",
      "\n",
      "You may be able to resolve this warning by setting `model_config['protected_namespaces'] = ()`.\n",
      "  warnings.warn(\n"
     ]
    }
   ],
   "source": [
    "from langchain.text_splitter import RecursiveCharacterTextSplitter\n",
    "from langchain_community.vectorstores import Chroma\n",
    "from langchain_community.embeddings import GPT4AllEmbeddings\n",
    "from langchain_community.document_loaders import FireCrawlLoader\n",
    "from langchain_community.vectorstores.utils import filter_complex_metadata\n",
    "from langchain.docstore.document import Document"
   ]
  },
  {
   "cell_type": "code",
   "execution_count": 4,
   "metadata": {},
   "outputs": [
    {
     "name": "stdout",
     "output_type": "stream",
     "text": [
      "[[Document(metadata={'title': 'Introduction to the API - Omeka S Developer Documentation', 'language': 'en', 'ogLocaleAlternate': [], 'sourceURL': 'https://omeka.org/s/docs/developer/api/', 'statusCode': 200}, page_content='\\n\\n# Introduction to the API [\\uf0c1](\\\\#introduction-to-the-api \"Permanent link\")\\n\\nOmeka S provides an application programming interface (API) that enables [CRUD](https://en.wikipedia.org/wiki/Create,_read,_update_and_delete)\\noperations on its resources. API resources are objects with a type, associated data,\\nrelationships to other resources, and sets of methods that operate on them. There\\nare two ways to access Omeka\\'s API:\\n\\n- Programmatically, from within Omeka\\'s PHP environment (see the [PHP API documentation](php_api/))\\n- Using Omeka\\'s [REST](https://en.wikipedia.org/wiki/Representational_state_transfer) web service (see the [REST API documentation](rest_api/))\\n\\n## Operations [\\uf0c1](\\\\#operations \"Permanent link\")\\n\\nYou can perform these API operations on almost every API resource:\\n\\n| Operation | Description |\\n| --- | --- |\\n| search | Get a list of resources given query parameters |\\n| read | Get an individual resource given a unique identifier |\\n| create | Create a new resource |\\n| update | Update an existing resource given a unique identifier |\\n| delete | Delete an existing resource given a unique identifier |\\n\\n## Resources [\\uf0c1](\\\\#resources \"Permanent link\")\\n\\nOmeka comes with the following API resources:\\n\\n| Resource | Description |\\n| --- | --- |\\n| users | Users who have login credentials |\\n| vocabularies | RDF vocabularies imported into Omeka |\\n| resource\\\\_classes | RDF classes that belong to vocabularies |\\n| properties | RDF properties that belong to vocabularies |\\n| items | Item RDF resources, the building blocks of Omeka |\\n| media | Media RDF resources that belong to items |\\n| item\\\\_sets | Item set RDF resources, inclusive set of items |\\n| resource\\\\_templates | Templates that define how to describe RDF resources |\\n| sites | Omeka sites, the public components of Omeka |\\n| site\\\\_pages | Pages within sites |\\n| modules | Modules that extend Omeka fuctionality (search and read access only) |\\n| api\\\\_resources | API resources available on this install (search and read access only) |\\n\\nDo not confuse \"API resources\" and \"RDF resources.\" RDF resources are resources\\nthat can be described and semantically linked using RDF vocabularies. The only RDF\\nresources in Omeka are items, media, and item sets. (See [Resource Description Framework](https://en.wikipedia.org/wiki/Resource_Description_Framework).)')]]\n"
     ]
    }
   ],
   "source": [
    "urls = [\n",
    "    'https://omeka.org/s/docs/developer/api/',\n",
    "    'https://omeka.org/s/docs/developer/api/php_api/',\n",
    "    'https://omeka.org/s/docs/developer/api/rest_api/',\n",
    "    'https://omeka.org/s/docs/developer/api/representations/',\n",
    "    'https://omeka.org/s/docs/developer/api/api_reference/',\n",
    "    'https://omeka.org/s/docs/developer/api/rest_api_reference/'    \n",
    "]\n",
    "\n",
    "docs_list = [FireCrawlLoader(api_key=os.getenv('FIRECRAWL_API_KEY'), url=url, mode='scrape').load() for url in urls]\n",
    "print(docs_list)"
   ]
  },
  {
   "cell_type": "code",
   "execution_count": 5,
   "metadata": {},
   "outputs": [],
   "source": [
    "\n",
    "text_splitter = RecursiveCharacterTextSplitter.from_tiktoken_encoder(\n",
    "    chunk_size=300,\n",
    "    chunk_overlap=30\n",
    ")\n",
    "\n",
    "docs = [doc for sublist in docs_list for doc in sublist]\n",
    "docs_splits = text_splitter.split_documents(docs)\n",
    "\n",
    "# Filter out complex metadata and ensure proper document formatting\n",
    "filtered_docs = []\n",
    "for doc in docs_splits:\n",
    "    # Ensure the doc is an instance of Document and has a 'metadata' attribute\n",
    "    if isinstance(doc, Document) and hasattr(doc, 'metadata'):\n",
    "        clean_metadata = {k: v for k, v in doc.metadata.items() if isinstance(v, (str, int, float, bool))}\n",
    "        filtered_docs.append(Document(page_content=doc.page_content, metadata=clean_metadata))\n",
    "\n",
    "# Add to vectorDB\n",
    "vectorestore = Chroma.from_documents(\n",
    "    documents=filtered_docs,\n",
    "    collection_name=\"rag-chroma\",\n",
    "    embedding=GPT4AllEmbeddings()\n",
    ")\n",
    "\n",
    "retriever = vectorestore.as_retriever(search_kwargs={\"k\":7}) # number of relavant docs to retrieve"
   ]
  },
  {
   "cell_type": "code",
   "execution_count": 6,
   "metadata": {},
   "outputs": [],
   "source": [
    "### Retrieval Grader\n",
    "\n",
    "from langchain.prompts import PromptTemplate\n",
    "from langchain_community.chat_models import ChatOllama\n",
    "from langchain_core.output_parsers import JsonOutputParser\n",
    "\n",
    "# LLM\n",
    "llm = ChatOllama(model=local_llm, format='json', temperature=0) # format : defines the format between user and model\n",
    "\n",
    "# Llama has specific prompt style as show below\n",
    "prompt = PromptTemplate(template=\"\"\"<|begin_of_text|><|start_header_id|>system<|end_header_id|> You are a grader assessing relevance\n",
    "of a retrieved document to a user question. If the document contains keywords related to the user question,\n",
    "grade it as relevant. It does not need to be a stringent test. The goal is to filter out erroneous retrievals. \\n\n",
    "Give a binary score 'yes' or 'no' score to indicate whether the document is relevant to the question. \\n\n",
    "Provide the binary score as a JSON with a single key 'score' and no premable or explaination.\n",
    "\n",
    "<|eot_id|><|start_header_id|>user<|end_header_id|>\n",
    "Here is the retrieved document: \\n\\n {document} \\n\\n\n",
    "Here is the user question: {question} \\n <|eot_id|><|start_header_id|>assistant<|end_header_id|>\n",
    "\"\"\",\n",
    "input_variables=[\"question\", \"document\"])\n",
    "\n",
    "retrieval_grader = prompt | llm | JsonOutputParser()\n"
   ]
  },
  {
   "cell_type": "code",
   "execution_count": 7,
   "metadata": {},
   "outputs": [
    {
     "name": "stderr",
     "output_type": "stream",
     "text": [
      "[2024-10-01 16:21:41 - chromadb.segment.impl.vector.local_hnsw:144 - WARNING] Number of requested results 7 is greater than number of elements in index 3, updating n_results = 3\n"
     ]
    },
    {
     "name": "stderr",
     "output_type": "stream",
     "text": [
      "[2024-10-01 16:21:47 - chromadb.segment.impl.vector.local_hnsw:144 - WARNING] Number of requested results 7 is greater than number of elements in index 3, updating n_results = 3\n"
     ]
    },
    {
     "name": "stdout",
     "output_type": "stream",
     "text": [
      "Relevant question and doc result:  {'score': 'yes'}\n",
      "Irrelevant question and doc result:  {'score': 'no'}\n"
     ]
    }
   ],
   "source": [
    "### Test the retreival grader\n",
    "\n",
    "# Test 1: Something Relevant\n",
    "relevant_question = \"Give me sample PHP Api in Omeka-s?\"\n",
    "docs = retriever.invoke(relevant_question)\n",
    "relevant_doc_txt = docs[0].page_content  # check against the first doc\n",
    "print(\"Relevant question and doc result: \", retrieval_grader.invoke({\"question\": relevant_question, \"document\": relevant_doc_txt}))\n",
    "\n",
    "# Test 2: Something Relevant\n",
    "irrelevant_question = \"How to use nodejs?\"\n",
    "docs = retriever.invoke(relevant_question)\n",
    "irrelevant_doc_txt = docs[0].page_content  # check against the first doc\n",
    "print(\"Irrelevant question and doc result: \", retrieval_grader.invoke({\"question\": irrelevant_question, \"document\": irrelevant_doc_txt}))"
   ]
  },
  {
   "cell_type": "code",
   "execution_count": 8,
   "metadata": {},
   "outputs": [],
   "source": [
    "### Generate\n",
    "\n",
    "from langchain import hub\n",
    "from langchain_core.output_parsers import StrOutputParser\n",
    "\n",
    "prompt = PromptTemplate(\n",
    "    template=\"\"\"<|begin_of_text|><|start_header_id|>system<|end_header_id> You are an assistant for question-answering tasks.\n",
    "    Use the following pieces of retrieved context for more information to answer the question. If you don't know the answer, just say that you don't know.\n",
    "    Use three sentences maximum and keep the answer concise <|eot_id|><|start_header_id|>user<|end_header_id|>\n",
    "    Question: {question}\n",
    "    Context: {context}\n",
    "    Answer: <|eot_id|><|start_header_id|>assistant<|end_header_id|>\"\"\",\n",
    "    input_variables=[\"question\", \"document\"],\n",
    ")\n",
    "\n",
    "llm = ChatOllama(model=local_llm, temperature=0) # format = 'json' would give result in json\n",
    "\n",
    "def format_docs(docs):\n",
    "    return \"\\n\\n\".join(doc.page_content for doc in docs)\n",
    "\n",
    "# Chain\n",
    "rag_chain = prompt | llm | StrOutputParser()"
   ]
  },
  {
   "cell_type": "code",
   "execution_count": 9,
   "metadata": {},
   "outputs": [
    {
     "name": "stderr",
     "output_type": "stream",
     "text": [
      "[2024-10-01 16:21:48 - chromadb.segment.impl.vector.local_hnsw:144 - WARNING] Number of requested results 7 is greater than number of elements in index 3, updating n_results = 3\n"
     ]
    },
    {
     "name": "stdout",
     "output_type": "stream",
     "text": [
      "I don't know the answer to that question. The provided context does not mention Fisk University or its president. It appears to be about Omeka, an application programming interface (API), and its resources.\n"
     ]
    }
   ],
   "source": [
    "# question = \"Give me example usage of resource_class_label api\"\n",
    "question = \"Who is the president of Fisk University?\"\n",
    "docs = retriever.invoke(question)\n",
    "generation = rag_chain.invoke({\n",
    "    \"context\": format_docs(docs), \"question\": question\n",
    "})\n",
    "print(generation) # Not a good answer because the FireCrawl's crawl output is not good."
   ]
  },
  {
   "cell_type": "code",
   "execution_count": 10,
   "metadata": {},
   "outputs": [
    {
     "name": "stdout",
     "output_type": "stream",
     "text": [
      "## Resources [](\\#resources \"Permanent link\")\n",
      "\n",
      "Omeka comes with the following API resources:\n",
      "\n",
      "| Resource | Description |\n",
      "| --- | --- |\n",
      "| users | Users who have login credentials |\n",
      "| vocabularies | RDF vocabularies imported into Omeka |\n",
      "| resource\\_classes | RDF classes that belong to vocabularies |\n",
      "| properties | RDF properties that belong to vocabularies |\n",
      "| items | Item RDF resources, the building blocks of Omeka |\n",
      "| media | Media RDF resources that belong to items |\n",
      "| item\\_sets | Item set RDF resources, inclusive set of items |\n",
      "| resource\\_templates | Templates that define how to describe RDF resources |\n",
      "| sites | Omeka sites, the public components of Omeka |\n",
      "| site\\_pages | Pages within sites |\n",
      "| modules | Modules that extend Omeka fuctionality (search and read access only) |\n",
      "| api\\_resources | API resources available on this install (search and read access only) |\n",
      "\n",
      "# Introduction to the API [](\\#introduction-to-the-api \"Permanent link\")\n",
      "\n",
      "Omeka S provides an application programming interface (API) that enables [CRUD](https://en.wikipedia.org/wiki/Create,_read,_update_and_delete)\n",
      "operations on its resources. API resources are objects with a type, associated data,\n",
      "relationships to other resources, and sets of methods that operate on them. There\n",
      "are two ways to access Omeka's API:\n",
      "\n",
      "- Programmatically, from within Omeka's PHP environment (see the [PHP API documentation](php_api/))\n",
      "- Using Omeka's [REST](https://en.wikipedia.org/wiki/Representational_state_transfer) web service (see the [REST API documentation](rest_api/))\n",
      "\n",
      "## Operations [](\\#operations \"Permanent link\")\n",
      "\n",
      "You can perform these API operations on almost every API resource:\n",
      "\n",
      "| Operation | Description |\n",
      "| --- | --- |\n",
      "| search | Get a list of resources given query parameters |\n",
      "| read | Get an individual resource given a unique identifier |\n",
      "| create | Create a new resource |\n",
      "| update | Update an existing resource given a unique identifier |\n",
      "| delete | Delete an existing resource given a unique identifier |\n",
      "\n",
      "Do not confuse \"API resources\" and \"RDF resources.\" RDF resources are resources\n",
      "that can be described and semantically linked using RDF vocabularies. The only RDF\n",
      "resources in Omeka are items, media, and item sets. (See [Resource Description Framework](https://en.wikipedia.org/wiki/Resource_Description_Framework).)\n"
     ]
    }
   ],
   "source": [
    "print(format_docs(docs))"
   ]
  },
  {
   "cell_type": "code",
   "execution_count": 11,
   "metadata": {},
   "outputs": [],
   "source": [
    "from langchain_community.tools.tavily_search import TavilySearchResults\n",
    "web_search_tool = TavilySearchResults(k=3)"
   ]
  },
  {
   "cell_type": "code",
   "execution_count": 12,
   "metadata": {},
   "outputs": [],
   "source": [
    "### Hallucinatin Grader\n",
    "\n",
    "llm = ChatOllama(model=local_llm, format='json', temperatur=0)\n",
    "\n",
    "prompt = PromptTemplate(\n",
    "    template=\"\"\"<|begin_of_text|><|start_header_id|>system<|end_header_id|> You are a grader assessing whether\n",
    "an answer is grounded in / supported by a set of facts. Give a binary score 'yes' or 'no' score to indicate\n",
    "whether the answer is grounded in / supported by a set of facts. Provide the binary score as a JSON with a\n",
    "single key 'score' and no preamble or explanation. <|eot_id|><|start_header_id|>user<|end_header_id|>\n",
    "\n",
    "Here are the facts:\n",
    "\\n --------- \\n\n",
    "{documents}\n",
    "\\n --------- \\n\n",
    "Here is the answer: {generation} <|eot_id|><|start_header_id|>assistant<|end_header_id|>\"\"\",\n",
    "input_variables=[\"generation\", \"documents\"],\n",
    ")\n",
    "\n",
    "hallucination_grader = prompt | llm | JsonOutputParser()"
   ]
  },
  {
   "cell_type": "code",
   "execution_count": 13,
   "metadata": {},
   "outputs": [
    {
     "data": {
      "text/plain": [
       "{'score': 'no'}"
      ]
     },
     "execution_count": 13,
     "metadata": {},
     "output_type": "execute_result"
    }
   ],
   "source": [
    "hallucination_grader.invoke(({\"documents\": docs, \"generation\": generation}))"
   ]
  },
  {
   "cell_type": "code",
   "execution_count": 14,
   "metadata": {},
   "outputs": [],
   "source": [
    "### Answer Grader\n",
    "\n",
    "# LLM\n",
    "llm = ChatOllama(model=local_llm, format=\"json\", temperature=0)\n",
    "\n",
    "# Prompt\n",
    "prompt = PromptTemplate(\n",
    "    template=\"\"\"<|begin_of_text|><|start_header_id|>system<|end_header_id|> You are a grader assessing whether an answer is useful to resolve a question. \n",
    "    Give a binary score 'yes' or 'no' to indicate whether the answer is useful to resolve a question. Provide the binary score as a JSON with a single key 'score' and no preamble or explanation.\n",
    "    <|eot_id|><|start_header_id|>user<|end_header_id|> Here is the answer:\n",
    "    \\n -------- \\n\n",
    "    {generation}\n",
    "    \\n -------- \\n\n",
    "    Here is the question: {question} <|eot_id|><|start_header_id|>assistant<|end_header_id|>\"\"\",\n",
    "    input_variables=[\"generation\", \"question\"])\n",
    "\n",
    "answer_grader = prompt | llm | JsonOutputParser()"
   ]
  },
  {
   "cell_type": "markdown",
   "metadata": {},
   "source": [
    "### Agent"
   ]
  },
  {
   "cell_type": "code",
   "execution_count": 15,
   "metadata": {},
   "outputs": [
    {
     "data": {
      "text/plain": [
       "{'score': 'no'}"
      ]
     },
     "execution_count": 15,
     "metadata": {},
     "output_type": "execute_result"
    }
   ],
   "source": [
    "answer_grader.invoke({\"question\": question, \"generation\": generation})"
   ]
  },
  {
   "cell_type": "code",
   "execution_count": 16,
   "metadata": {},
   "outputs": [],
   "source": [
    "from typing_extensions import TypedDict\n",
    "from typing import List\n",
    "\n",
    "\n",
    "### State\n",
    "class GraphState(TypedDict):\n",
    "    \"\"\"\"\n",
    "    Represents the state of our graph\n",
    "\n",
    "    Attributes:\n",
    "        question: question\n",
    "        generation: LLM generation\n",
    "        web_search: whether to search in web for documents\n",
    "        documents: list of documents\n",
    "    \"\"\"\n",
    "\n",
    "    question: str\n",
    "    generation: str\n",
    "    web_search: bool\n",
    "    documents: List[str]\n",
    "\n",
    "\n",
    "### Nodes\n",
    "def retrieve(state):\n",
    "    \"\"\"\n",
    "    Retrieve documents from vectorstore\n",
    "\n",
    "    Args:\n",
    "        state (dict): The current graph state\n",
    "    \n",
    "    Returns:\n",
    "        state (dict): New key added to state, documents, that contains retrieved documents\n",
    "    \"\"\"\n",
    "    print(\"--RETRIEVE--\")\n",
    "    question = state[\"question\"]\n",
    "\n",
    "    # Retrieval\n",
    "    documents = retriever.invoke(question)\n",
    "    return {\"documents\": documents, \"question\": question}\n",
    "\n",
    "def grade_documents(state):\n",
    "    \"\"\"\n",
    "    Determines whether the retrieved documents are relevant to the question If any document is not relevant, we\n",
    "    will set a flag to run web search\n",
    "\n",
    "    Args:\n",
    "        state (dict): The current graph state\n",
    "    \n",
    "    Returns:\n",
    "        state (dict): Filtered out irrelevant documents and updated web_search state\n",
    "    \"\"\"\n",
    "    print(\"--CHECK DOCUMENT RELEVANCE TO QUESTION--\")\n",
    "    question = state[\"question\"]\n",
    "    documents = state[\"documents\"]\n",
    "\n",
    "    # Score each docs\n",
    "    filtered_docs = []\n",
    "    web_search = False\n",
    "\n",
    "    for doc in documents:\n",
    "        score = retrieval_grader.invoke({\"question\": question, \"document\": doc.page_content})\n",
    "        grade = score['score']\n",
    "        \n",
    "        # Check document relevant\n",
    "        if grade.lower() == \"yes\":\n",
    "            print(\"--GRADE: DOCUMENT RELEVANT--\")\n",
    "            filtered_docs.append(doc)\n",
    "        \n",
    "        # Document not relevant\n",
    "        else:\n",
    "            print(\"--GRADE: DOCUMENT NOT RELEVANT--\")\n",
    "            # Avoid adding to the filtered docs list\n",
    "            web_search = True\n",
    "            continue\n",
    "\n",
    "    return {\"documents\": filtered_docs, \"question\": question, \"web_search\": web_search}\n",
    "\n",
    "\n",
    "def generate(state):\n",
    "    \"\"\"\n",
    "    Generate answer using RAG on retrieved documents\n",
    "\n",
    "    Args:\n",
    "        state (dict): The current graph state\n",
    "    \n",
    "    Returns:\n",
    "        state (dict): New key added to state, generation, that contains LLM generation\n",
    "    \"\"\"\n",
    "    print(\"--GENERATE--\")\n",
    "    question = state[\"question\"]\n",
    "    documents = state[\"documents\"]\n",
    "\n",
    "    # RAG Generation\n",
    "    generation = rag_chain.invoke({\"context\": documents, \"question\": question})\n",
    "    return {\"documents\": documents, \"question\": question, \"generation\": generation}\n",
    "    \n",
    "\n",
    "def web_search(state):\n",
    "    \"\"\"\n",
    "    Web search based on the question\n",
    "\n",
    "    Args:\n",
    "        state (dict): The current graph state\n",
    "    \n",
    "    Returns:\n",
    "        state (dict): Appended web results to documents\n",
    "    \"\"\"\n",
    "\n",
    "    print(\"--WEB SEARCH--\")\n",
    "    question = state[\"question\"]\n",
    "    documents = state[\"documents\"]\n",
    "\n",
    "    # Web search\n",
    "    docs = web_search_tool.invoke({\"query\": question})\n",
    "    web_results = \"\\n\".join([doc[\"content\"] for doc in docs])\n",
    "    web_results = Document(page_content=web_results)\n",
    "    if documents is not None:\n",
    "        documents.append(web_results)\n",
    "    else:\n",
    "        documents = [web_results]\n",
    "    \n",
    "    return {\"documents\": documents, \"question\": question}\n",
    "\n",
    "\n",
    "### Conditional edge\n",
    "\n",
    "def decide_to_generate(state):\n",
    "    \"\"\"\n",
    "    Determine whether to generate an answer, or add web search\n",
    "    Args:\n",
    "        state (dict): The current graph state\n",
    "    \n",
    "    Returns:\n",
    "        str: Decision for next node\n",
    "    \"\"\"\n",
    "\n",
    "    print(\"--ACCESS GRADED DOCUMENTS--\")\n",
    "    question = state[\"question\"]\n",
    "    web_search = state[\"web_search\"]\n",
    "    filtered_docs = state[\"documents\"]\n",
    "\n",
    "    if web_search:\n",
    "        # All documents have been filtered check_relance\n",
    "        # we will re-generate a new query\n",
    "\n",
    "        print(\"--DECISION: ALL DECISIONS ARE NOT RELEVANT TO QUESTION, INCLUDE WEB SEARCH --\")\n",
    "        return \"websearch\"\n",
    "    else:\n",
    "        # We have relevant documents, so generate answer\n",
    "        print(\"--DECISION: GENERATE--\")\n",
    "        return \"generate\"\n",
    "\n",
    "### Conditional edge\n",
    "\n",
    "def grade_generation_v_documents_and_question(state):\n",
    "    \"\"\"\n",
    "    Checks for the hallucination in the LLM generation\n",
    "     Args:\n",
    "        state (dict): The current graph state\n",
    "    \n",
    "    Returns:\n",
    "        str: Result of hallucination for the LLM generation\n",
    "    \"\"\"\n",
    "\n",
    "    print(\"--CHECK HALLUCINATIONS--\")\n",
    "    question = state[\"question\"]\n",
    "    documents = state[\"documents\"]\n",
    "    generation = state[\"generation\"]\n",
    "\n",
    "    score = hallucination_grader.invoke({\"documents\": documents, \"generation\": generation})\n",
    "    grade = score[\"score\"]\n",
    "\n",
    "    # Check hallucination\n",
    "    if grade.lower() == \"yes\":\n",
    "        print(\"--DECISION: GENERATION IS GROUNDED IN DOCUMENTS--\")\n",
    "\n",
    "        # Check question-answering\n",
    "        print(\"--GRADE GENERATION vs QUESTION--\")\n",
    "        score = answer_grader.invoke({\"question\": question, \"generation\": generation})\n",
    "        grade = score[\"score\"]\n",
    "        if grade.lower() == \"yes\":\n",
    "            print(\"--DECISION: GENERATION ADDRESSES QUESTION---\")\n",
    "            return \"useful\"\n",
    "        else:\n",
    "            print(\"--DECISION: GENERATION DOES NOT ADDRESS QUESTION--\")\n",
    "            return \"not useful\"\n",
    "    else:\n",
    "        print(\"--DECISION: GENERATION IS NOT GROUNDED IN DOCUMENTS, RE-TRY--\")\n",
    "        return \"not supported\"\n",
    "        "
   ]
  },
  {
   "cell_type": "code",
   "execution_count": 17,
   "metadata": {},
   "outputs": [
    {
     "data": {
      "text/plain": [
       "<langgraph.graph.state.StateGraph at 0x16870c920>"
      ]
     },
     "execution_count": 17,
     "metadata": {},
     "output_type": "execute_result"
    }
   ],
   "source": [
    "from langgraph.graph import START, END, StateGraph\n",
    "workflow = StateGraph(GraphState)\n",
    "\n",
    "# Define nodes\n",
    "workflow.add_node(\"websearch\", web_search)\n",
    "workflow.add_node(\"retrieve\", retrieve)\n",
    "workflow.add_node(\"grade_documents\", grade_documents)\n",
    "workflow.add_node(\"generate\", generate)"
   ]
  },
  {
   "cell_type": "code",
   "execution_count": 18,
   "metadata": {},
   "outputs": [],
   "source": [
    "# Build the graph\n",
    "workflow.set_entry_point(\"retrieve\")\n",
    "workflow.add_edge(\"retrieve\", \"grade_documents\")\n",
    "workflow.add_conditional_edges(\n",
    "    \"grade_documents\",\n",
    "    decide_to_generate,\n",
    "    {\n",
    "        \"websearch\": \"websearch\",\n",
    "        \"generate\": \"generate\",\n",
    "    },\n",
    ")\n",
    "workflow.add_edge(\"websearch\", \"generate\")\n",
    "workflow.add_conditional_edges(\n",
    "    \"generate\",\n",
    "    grade_generation_v_documents_and_question,\n",
    "    {\n",
    "        \"not supported\": \"generate\",\n",
    "        \"useful\": END,\n",
    "        \"not useful\": \"websearch\"\n",
    "    },\n",
    ")\n",
    "\n",
    "custom_graph = workflow.compile()"
   ]
  },
  {
   "cell_type": "code",
   "execution_count": 19,
   "metadata": {},
   "outputs": [
    {
     "data": {
      "image/jpeg": "[encoded data removed]",
      "text/plain": [
       "<IPython.core.display.Image object>"
      ]
     },
     "metadata": {},
     "output_type": "display_data"
    }
   ],
   "source": [
    "from IPython.display import Image, display\n",
    "\n",
    "display(Image(custom_graph.get_graph(xray=True).draw_mermaid_png()))"
   ]
  },
  {
   "cell_type": "code",
   "execution_count": 20,
   "metadata": {},
   "outputs": [
    {
     "name": "stderr",
     "output_type": "stream",
     "text": [
      "[2024-10-01 16:21:57 - chromadb.segment.impl.vector.local_hnsw:144 - WARNING] Number of requested results 7 is greater than number of elements in index 3, updating n_results = 3\n"
     ]
    },
    {
     "name": "stdout",
     "output_type": "stream",
     "text": [
      "--RETRIEVE--\n",
      "'Finished running: retrieve:'\n",
      "--CHECK DOCUMENT RELEVANCE TO QUESTION--\n",
      "--GRADE: DOCUMENT NOT RELEVANT--\n",
      "--GRADE: DOCUMENT NOT RELEVANT--\n",
      "--GRADE: DOCUMENT NOT RELEVANT--\n",
      "--ACCESS GRADED DOCUMENTS--\n",
      "--DECISION: ALL DECISIONS ARE NOT RELEVANT TO QUESTION, INCLUDE WEB SEARCH --\n",
      "'Finished running: grade_documents:'\n",
      "--WEB SEARCH--\n",
      "'Finished running: websearch:'\n",
      "--GENERATE--\n",
      "--CHECK HALLUCINATIONS--\n",
      "--DECISION: GENERATION IS GROUNDED IN DOCUMENTS--\n",
      "--GRADE GENERATION vs QUESTION--\n",
      "--DECISION: GENERATION ADDRESSES QUESTION---\n",
      "'Finished running: generate:'\n",
      "According to the provided context, Dr. Agenia Walker Clark is the next president of Fisk University, effective November 6, 2023.\n"
     ]
    }
   ],
   "source": [
    "# Test\n",
    "\n",
    "from pprint import pprint\n",
    "inputs = {\"question\": \"Who is the president of fisk university?\"}\n",
    "\n",
    "for output in custom_graph.stream(inputs):\n",
    "    for key, value in output.items():\n",
    "        pprint(f\"Finished running: {key}:\")\n",
    "print(value[\"generation\"])"
   ]
  },
  {
   "cell_type": "code",
   "execution_count": null,
   "metadata": {},
   "outputs": [],
   "source": []
  }
 ],
 "metadata": {
  "kernelspec": {
   "display_name": "nlp-fall",
   "language": "python",
   "name": "python3"
  },
  "language_info": {
   "codemirror_mode": {
    "name": "ipython",
    "version": 3
   },
   "file_extension": ".py",
   "mimetype": "text/x-python",
   "name": "python",
   "nbconvert_exporter": "python",
   "pygments_lexer": "ipython3",
   "version": "3.12.2"
  }
 },
 "nbformat": 4,
 "nbformat_minor": 2
}
