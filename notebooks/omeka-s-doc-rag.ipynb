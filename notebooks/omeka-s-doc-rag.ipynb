{
 "cells": [
  {
   "cell_type": "code",
   "execution_count": 2,
   "metadata": {},
   "outputs": [
    {
     "data": {
      "text/plain": [
       "True"
      ]
     },
     "execution_count": 2,
     "metadata": {},
     "output_type": "execute_result"
    }
   ],
   "source": [
    "import os\n",
    "from dotenv import load_dotenv\n",
    "\n",
    "load_dotenv()"
   ]
  },
  {
   "cell_type": "code",
   "execution_count": 3,
   "metadata": {},
   "outputs": [],
   "source": [
    "local_llm = 'llama3'"
   ]
  },
  {
   "cell_type": "code",
   "execution_count": 4,
   "metadata": {},
   "outputs": [
    {
     "name": "stderr",
     "output_type": "stream",
     "text": [
      "/opt/anaconda3/envs/nlp-fall/lib/python3.12/site-packages/pydantic/_internal/_fields.py:161: UserWarning: Field \"model_name\" has conflict with protected namespace \"model_\".\n",
      "\n",
      "You may be able to resolve this warning by setting `model_config['protected_namespaces'] = ()`.\n",
      "  warnings.warn(\n"
     ]
    }
   ],
   "source": [
    "from langchain.text_splitter import RecursiveCharacterTextSplitter\n",
    "from langchain_community.vectorstores import Chroma\n",
    "from langchain_community.embeddings import GPT4AllEmbeddings\n",
    "from langchain_community.document_loaders import FireCrawlLoader\n",
    "from langchain_community.vectorstores.utils import filter_complex_metadata\n",
    "from langchain.docstore.document import Document"
   ]
  },
  {
   "cell_type": "code",
   "execution_count": 5,
   "metadata": {},
   "outputs": [
    {
     "name": "stdout",
     "output_type": "stream",
     "text": [
      "[[Document(metadata={'title': 'Introduction to the API - Omeka S Developer Documentation', 'language': 'en', 'ogLocaleAlternate': [], 'sourceURL': 'https://omeka.org/s/docs/developer/api/', 'statusCode': 200}, page_content='\\n\\n# Introduction to the API [\\uf0c1](\\\\#introduction-to-the-api \"Permanent link\")\\n\\nOmeka S provides an application programming interface (API) that enables [CRUD](https://en.wikipedia.org/wiki/Create,_read,_update_and_delete)\\noperations on its resources. API resources are objects with a type, associated data,\\nrelationships to other resources, and sets of methods that operate on them. There\\nare two ways to access Omeka\\'s API:\\n\\n- Programmatically, from within Omeka\\'s PHP environment (see the [PHP API documentation](php_api/))\\n- Using Omeka\\'s [REST](https://en.wikipedia.org/wiki/Representational_state_transfer) web service (see the [REST API documentation](rest_api/))\\n\\n## Operations [\\uf0c1](\\\\#operations \"Permanent link\")\\n\\nYou can perform these API operations on almost every API resource:\\n\\n| Operation | Description |\\n| --- | --- |\\n| search | Get a list of resources given query parameters |\\n| read | Get an individual resource given a unique identifier |\\n| create | Create a new resource |\\n| update | Update an existing resource given a unique identifier |\\n| delete | Delete an existing resource given a unique identifier |\\n\\n## Resources [\\uf0c1](\\\\#resources \"Permanent link\")\\n\\nOmeka comes with the following API resources:\\n\\n| Resource | Description |\\n| --- | --- |\\n| users | Users who have login credentials |\\n| vocabularies | RDF vocabularies imported into Omeka |\\n| resource\\\\_classes | RDF classes that belong to vocabularies |\\n| properties | RDF properties that belong to vocabularies |\\n| items | Item RDF resources, the building blocks of Omeka |\\n| media | Media RDF resources that belong to items |\\n| item\\\\_sets | Item set RDF resources, inclusive set of items |\\n| resource\\\\_templates | Templates that define how to describe RDF resources |\\n| sites | Omeka sites, the public components of Omeka |\\n| site\\\\_pages | Pages within sites |\\n| modules | Modules that extend Omeka fuctionality (search and read access only) |\\n| api\\\\_resources | API resources available on this install (search and read access only) |\\n\\nDo not confuse \"API resources\" and \"RDF resources.\" RDF resources are resources\\nthat can be described and semantically linked using RDF vocabularies. The only RDF\\nresources in Omeka are items, media, and item sets. (See [Resource Description Framework](https://en.wikipedia.org/wiki/Resource_Description_Framework).)')], [Document(metadata={'title': 'PHP API - Omeka S Developer Documentation', 'language': 'en', 'ogLocaleAlternate': [], 'sourceURL': 'https://omeka.org/s/docs/developer/api/php_api/', 'statusCode': 200}, page_content='\\n\\n# PHP API [\\uf0c1](\\\\#php-api \"Permanent link\")\\n\\nFrom within Omeka\\'s PHP environment there are three ways to make API requests: directly,\\nusing the API manager service, and indirectly, using the API controller plugin or\\nthe API view helper.\\n\\n## API Manager [\\uf0c1](\\\\#api-manager \"Permanent link\")\\n\\nYou can perform API operations directly using Omeka\\'s API manager. The API manager\\nis responsible for authorizing the user, initializing the API request, performing\\nthe operation on the resource, and finalizing the API response. (Note that not all\\nresources implement every API operation.)\\n\\nYou can access the API manager directly using the service locator (should you have\\naccess to the service locator, of course). Once you have the manager you can perform\\nthe following API operations:\\n\\n- `search($resource, $data, $options)`: search resources by query\\n- `read($resource, $id, $data, $options)`: read a resource by ID\\n- `create($resource, $data, $fileData, $options)`: create a resource\\n- `batchCreate($resource, $data, $fileData, $options)`: batch create resources\\n- `update($resource, $id, $data, $fileData, $options)`: update a resource by ID\\n- `batchUpdate($resource, $ids, $data, $fileData, $options)`: batch update resources by IDs\\n- `delete($resource, $id, $data, $options)`: delete a resource by ID\\n- `batchDelete($resource, $ids, $data, $options)`: batch delete resources by IDs\\n\\nThe `$resource` argument is the resource name. For read, update, and delete operations,\\nthe `$id` argument is the resource ID. The `$data` argument is an optional array\\nof API request parameters. For create and update operations, the `$fileData` argument\\nis an optional array of file data. The `$options` argument is an optional array\\nof API request options.\\n\\nEach operation will return an API [response object](#responses) containing the\\nrequested data and other relevant information. You can get the resultant\\nrepresentation by calling `getContent()` on the response. For example, to get an\\nitem with an ID of 123:\\n\\n```md-code__content\\n// Where $services is Omeka\\'s service locator object.\\n$api = $services->get(\\'Omeka\\\\ApiManager\\');\\n$response = $api->read(\\'items\\', 123);\\n$itemRepresentation = $response->getContent();\\n\\n```\\n\\n## Controller plugin [\\uf0c1](\\\\#controller-plugin \"Permanent link\")\\n\\nYou can access the API in your controllers using the API controller plugin,\\naccessible within a controller by calling `$this->api()`. The plugin\\nhas every operation that the API manager has, plus an additional one\\nfor convenience:\\n\\n- `searchOne($resource, $data, $options)`: search for one resource by query\\n\\nFor example, to get an item representation via a route parameter in a typical show\\naction:\\n\\n```md-code__content\\npublic function showAction()\\n{\\n    $itemRepresentation = $this->api()->read(\\'items\\', $this->params(\\'id\\'))->getContent();\\n    $view = new ViewModel;\\n    $view->setVariable(\\'item\\', $item);\\n    return $view;\\n}\\n\\n```\\n\\n## View helper [\\uf0c1](\\\\#view-helper \"Permanent link\")\\n\\nYou can access the API manager in your views using the API view helper,\\naccessible within a view by calling `$this->api()`. The helper only has the\\n`search()`, `searchOne()`, and `read()` operations. This is prevent operations\\nthat change state from being executed in the view layer.\\n\\nFor example, to get an item in a view template:\\n\\n```md-code__content\\n<?php $itemRepresentation = $this->api()->read(\\'items\\', 123); ?>\\n\\n```\\n\\n## Responses [\\uf0c1](\\\\#responses \"Permanent link\")\\n\\nAll API operations return a response object of class `Omeka\\\\Api\\\\Response`. The\\nmain method of use is `getContent()`, which returns the actual content that\\nwas requested. For `read`, this is a single value, while `search` will have content\\nthat is an array.\\n\\nBy default, the values returned by `getContent()` will be\\n[representation](../representations/) objects, suitable for use in views\\nand controllers.\\n\\nAnother method is useful for `search` specifically: `getTotalResults()` returns\\nthe total number of resources that matched the given query, even those beyond\\nlimits or pagination specified in the request. This \"total\" value is often\\npresented to the user or used for things like pagination to calculate how many\\npages of results exist.\\n\\n## Errors [\\uf0c1](\\\\#errors \"Permanent link\")\\n\\nThe API methods throw exceptions for error cases. These exceptions all implement\\nthe `Omeka\\\\Api\\\\Exception\\\\ExceptionInterface` interface. Common exceptions\\ninclude:\\n\\n- `Omeka\\\\Api\\\\Exception\\\\NotFoundException`: when an request for an operation\\nlike `read` or `update` specifies an ID that can\\'t be found\\n- `Omeka\\\\Api\\\\Exception\\\\PermissionDeniedException`: when the current user lacks\\nthe necessary level of permissions to fulfill the request\\n- `Omeka\\\\Api\\\\Exception\\\\ValidationException`: when an `update` or `create`\\nrequest specifies invalid data. The specific validation error messages are\\navaiable from the `getErrorStore()` method of the exception.\\n\\nFor the controller helper specifically, a Form object can be passed:\\n`$this->api($form)`, and if a validation error occurs, the helper will try to\\nautomatically match up the returned error messages with their corresponding\\nform elements, so the user can see the errors in context, as well as showing\\nthem as \"flash\" messages on the top of the screen.')], [Document(metadata={'title': 'REST API - Omeka S Developer Documentation', 'language': 'en', 'ogLocaleAlternate': [], 'sourceURL': 'https://omeka.org/s/docs/developer/api/rest_api/', 'statusCode': 200}, page_content='\\n\\n# REST API [\\uf0c1](\\\\#rest-api \"Permanent link\")\\n\\nThe REST API is a service layer built on top of the PHP API, so most (but not all)\\noperations available in PHP are also available using REST.\\n\\n## Endpoint [\\uf0c1](\\\\#endpoint \"Permanent link\")\\n\\nThe API is located at `/api` under the root of the Omeka S installation.\\n\\n## Format [\\uf0c1](\\\\#format \"Permanent link\")\\n\\n### Responses [\\uf0c1](\\\\#responses \"Permanent link\")\\n\\nHTTP responses will be formatted by default in [JSON-LD](http://json-ld.org/), a\\nmethod of transporting Linked Data using JSON.\\n\\nSince Omeka S version 4.1.0, API clients can request that responses be delivered in\\nother formats by passing a `format` query string parameter. The core supported\\nformats are:\\n\\n- JSON-LD ( `jsonld`, the default)\\n- RDF/XML ( `rdfxml`)\\n- N3 ( `n3`)\\n- Turtle ( `turtle`)\\n- N-Triples ( `ntriples`)\\n\\n### Requests [\\uf0c1](\\\\#requests \"Permanent link\")\\n\\nPayloads for requests should also be JSON-LD, but Omeka S sometimes requires clients\\nto follow a particular structure, even if the same data could be represented by\\nalternate valid JSON-LD structures. The Content-Type of a request with a payload\\nmust be `application/json` (or `multipart/form-data` if sending a multipart request).\\nFormat specifers (before `+`, i.e., `application/ld+json`, are also allowed).\\n\\n## Authentication [\\uf0c1](\\\\#authentication \"Permanent link\")\\n\\nThe API permits anonymous access to public resources (i.e., reading non-private\\ndata). To perform actions or view data that only logged-in users can access, you\\nmust authenticate your requests.\\n\\nAuthentication requires every request to include two additional GET parameters:\\n`key_identity` and `key_credential`. An Omeka S user can create API keys in the\\n\"API keys\" tab of their user edit page.\\n\\n## API Operations [\\uf0c1](\\\\#api-operations \"Permanent link\")\\n\\n```md-code__content\\nGET /api/:api_resource\\n\\n```\\n\\nSearch or list resources, optionally specifying criteria. Parameters to filter,\\nlimit, or alter the search results should be passed as GET parameters in the query\\nstring. Links to additional pages are given in the `Link` header. The link with\\n`rel=\"next\"` is the next page in the sequence. When appropriate, links with a `rel`\\nvalue of `prev`, `first`, and `last` are also provided.\\n\\nAs of Omeka S 3.0.0, search responses include an `Omeka-S-Total-Results` header\\nthat indicates the total number of results across all pages.\\n\\n### Read [\\uf0c1](\\\\#read \"Permanent link\")\\n\\n```md-code__content\\nGET /api/:api_resource/:id\\n\\n```\\n\\nGet one resource by a known ID. The `id` parameter is mandatory.\\n\\n### Create [\\uf0c1](\\\\#create \"Permanent link\")\\n\\n```md-code__content\\nPOST /api/:api_resource\\n\\n```\\n\\nCreate a resource. A JSON payload is required.\\n\\n#### Upload files [\\uf0c1](\\\\#upload-files \"Permanent link\")\\n\\nFor create operations that involve uploading files, multipart requests (Content-Type\\n`multipart/form-data`) are supported. In a multipart request, the normal JSON request\\nbody should be specified as a \"field\" with the name `data`. The `asset` API resource\\nexpects the associated file to be named `file`. To upload media (as part of a `media`\\ncreate operation or `item` create or update operation), files are expected to be\\nnamed as an \"array\" (i.e., `file[0]`, `file[1]`). The JSON body for the media or\\nitem will specify the index into this array with the `file_index` key.\\n\\n```md-code__content\\n\"o:ingester\": \"upload\",\\n\"file_index\": 0,\\n...\\n\\n```\\n\\n### Update [\\uf0c1](\\\\#update \"Permanent link\")\\n\\n```md-code__content\\nPUT /api/:api_resource/:id\\n\\n```\\n\\nUpdate a resource. The `id` URL parameter is required. A JSON payload is required.\\nThe payload completely updates/replaces the existing resource with the given ID.\\nTherefore, if making changes, it\\'s typically wise to read the current state of the\\nresource, alter the returned JSON, and submit that as the update. Alternatively,\\nyou can perform a \"partial\" update.\\n\\n### Partial Update (Patch) [\\uf0c1](\\\\#partial-update-patch \"Permanent link\")\\n\\n```md-code__content\\nPATCH /api/:api_resource/:id\\n\\n```\\n\\nUpdate a resource, preserving data in non-specified keys. The `id` URL parameter\\nis required. A JSON payload is required. Note that specifying _any_ values for RDF\\nproperties (the \"values\" for items, item sets, and media) will be treated as an\\n\"update\" to the values generally (meaning that specifying any value for any RDF\\nproperty will mean the removal of all other values that aren\\'t passed). In other\\nwords, the values are treated as if they\\'re one big \"key\" for the purposes of patching.\\n\\n### Delete [\\uf0c1](\\\\#delete \"Permanent link\")\\n\\n```md-code__content\\nDELETE /api/:api_resource/:id\\n\\n```\\n\\nDelete a resource. The `id` URL parameter is required.')], [Document(metadata={'title': 'Representations - Omeka S Developer Documentation', 'language': 'en', 'ogLocaleAlternate': [], 'sourceURL': 'https://omeka.org/s/docs/developer/api/representations/', 'statusCode': 200}, page_content='\\n\\n# Representations [\\uf0c1](\\\\#representations \"Permanent link\")\\n\\nData from the Omeka S API (which covers just about all data you\\'ll deal with that\\'s stored\\nin Omeka S) is accessed internally through \"representation\" objects. These are what you\\'ll\\nreceive from calls to the API, and what you will use in modules and themes to access and use\\nthe data.\\n\\n## Common Representation Methods [\\uf0c1](\\\\#common-representation-methods \"Permanent link\")\\n\\nSome pieces of functionality are more or less common to all representations. Usually these\\nhave to do with basic operations like getting URLs or links to the represented resources.\\n\\n### URLs [\\uf0c1](\\\\#urls \"Permanent link\")\\n\\nThe methods `url`, `adminUrl`, and `siteUrl` each return a URL to the represented resource\\nin the Omeka S web interface. `adminUrl` always returns links to the admin interface,\\n`siteUrl` returns links to the public interface (if the resource has no public URL, it will\\nreturn `null`), and `url` returns links to the current context, admin or site, as appropriate.\\n\\nTypically you should use `url`. `adminUrl` and `siteUrl` are generally used only when making\\nURLs to traverse from the admin to public sides or vice-versa, or from one site to another.\\n\\n`url` and `adminUrl` take the \"action\" to link to as the first argument. If omitted or set to\\n`null` explicitly, the URL will be to the \"default\" action, which is usually to simply show or\\nview the resource. `siteUrl` always returns links to the default action, and instead optionally\\ntakes the slug of the site to link to as its first argument (the current site will be used if\\nomitted or set to `null`).\\n\\nAll three take the same second argument, a boolean flag for whether the returned URL should be\\nabsolute or server-relative. Server-relative URLs are the default and you must pass `true` as\\nthis second argument to return an absolute URL instead.\\n\\n```md-code__content\\n$item->url(); // URL to an item\\'s default \"show\" page\\n\\n$item->adminUrl(\\'edit\\'); // URL to an item\\'s \"edit\" page on the admin, even if called on the public site\\n\\n$item->siteUrl(\\'example\\', true); // Absolute URL to an item\\'s \"show\" page on the site \"example\"\\n\\n```\\n\\nThere is also an `apiUrl` method for getting a URL to the resource in the REST API. It takes\\nno arguments.\\n\\n### Links [\\uf0c1](\\\\#links \"Permanent link\")\\n\\nBuilding upon the methods shown above to get URLs, representations also have some convenience\\nmethods for creating HTML links using those URLs.\\n\\n`link` returns an `<a>` tag with specified text content. The text content is the first\\nargument and is mandatory. You can optionally specify an action to link to (passed through\\nto `url`) as the second argument, and an array of attributes to set on the `<a>` tag as the\\nthird argument. The text content will be automatically HTML-escaped (so things like HTML tags\\nwithin the text will be displayed literally to the user and not interpreted as actual tags).\\n\\n`linkRaw` works exactly as `link` does and takes the same arguments, but the content is\\n_not_ escaped automatically. This allows you to include things like images and other HTML in\\nthe link, but you are responsible for filtering or escaping any data coming from a user,\\nincluding data stored in the database. Using other methods as the input to this function that\\nthemselves produce \"safe\" output is usually a good idea.\\n\\n```md-code__content\\necho $item->link(\\'View Item\\'); // Print a link to $item\\n\\necho $item->link(\\'Edit Item\\', \\'edit\\'); // Print a link to the edit form for $item\\n\\necho $item->link(\\'View Item\\', null, [\\'title\\' => \\'Not an interesting example, sorry\\']); // Print a link to $item with the given title attribute\\n\\necho $item->linkRaw($this->thumbnail($item, \\'medium\\')); // Print a thumbnail for $item that links to the item\\'s page\\n\\n```\\n\\nAn additional method, `linkPretty`, is only available for Resource-type representations: those\\nfor items, item sets, and media. [See below](#links-again) for information on that method.\\n\\n### Primary Media [\\uf0c1](\\\\#primary-media \"Permanent link\")\\n\\nMany different types of resources in Omeka S can have a \"primary\" media, the one used when\\nOmeka S needs to show a thumbnail for the resource. Items return their first media, media\\nreturn themselves, and item sets return the primary media for their first item.\\n\\nThe `primaryMedia` method takes no arguments and returns the primary media, itself a\\nRepresentation. If there is no primary media for the resource, it returns `null`.\\n\\n### Others [\\uf0c1](\\\\#others \"Permanent link\")\\n\\nThere are several more commonly-available methods, like `id` to get the resource\\'s ID,\\n`jsonSerialize` to output the Omeka S API JSON-LD for the resource, and `embeddedJsonLD` for\\ngetting a `script` tag for embedding that JSON-LD on an HTML page. Generally these are of\\ninternal interest and usage, but depending on what you\\'re doing they might be relevant.\\n\\n## Resource Representations [\\uf0c1](\\\\#resource-representations \"Permanent link\")\\n\\nThe most commonly used representations are for the \"Resource\" types: items, item sets,\\nand media. These are the objects that hold all the values for properties and they accordingly\\nshare a great deal of functionality for accessing and printing that data.\\n\\n### Links (again) [\\uf0c1](\\\\#links-again \"Permanent link\")\\n\\nThe resource representations share the basic link methods that any resource has, described\\nabove, but they also have access to one more.\\n\\nThe `linkPretty` method returns a link to the resource consisting of a thumbnail together\\nwith the resource\\'s title. This is such a common pattern throughout Omeka S and many themes\\nthat we provide a method just for convenience\\'s sake.\\n\\nAll the arguments to `linkPretty` are optional:\\n\\n- The first is the type of thumbnail to use. `square` is the default.\\n- The second is the \"default\" text to use if the resource has no title. If omitted the standard\\n`\"[Untitled]\"` text will be used.\\n- The third is the action to link to. This works exactly as it does in the normal linking and\\nURL methods: if omitted the default action is used, usually a show page.\\n- The final argument is an array of attributes to set. `resource-link` will always be appended\\nto the `class` attribute, even if you set one here.\\n\\n### Displaying Metadata Values [\\uf0c1](\\\\#displaying-metadata-values \"Permanent link\")\\n\\n#### Title and Description [\\uf0c1](\\\\#title-and-description \"Permanent link\")\\n\\nTitle and Description are so commonly used in the interface and on themes, there are special\\nmethods just for printing them and providing defaults if they are missing.\\n\\n`displayTitle` will return the first `dcterms:title` value for the resource. If there is no\\nsuch title, it will display a default value instead. The \"default default\" is the text\\n`[Untitled]`, translated into the current locale. (Media will fall back to their \"source\" name\\ninstead.) If you want a different default or fallback value, you can provide it as the only\\nargument to this method.\\n\\n`displayDescription` does the same as `displayTitle`, but with `dcterms:description`. One\\nslight difference: the \"default default\" for this method is just `null`. So, if you don\\'t\\npass your own fallback value, printing `displayDescription` will just print nothing.\\n\\n#### Any Property [\\uf0c1](\\\\#any-property \"Permanent link\")\\n\\nFor getting specific metadata values other than title and description, you will use the\\n`value` method.\\n\\n`value` takes one mandatory argument, the property term to retrieve values for, and one\\noptional argument, an array of options.\\n\\nThe term is a colon-separated string consisting of the namespace prefix of the vocabulary and\\nthe local part of the property you want to retrieve values for. For example, `dcterms:subject`\\nor `foaf:name`.\\n\\nThe options array is an associative array with several possible keys for different options:\\n\\n- `\\'type\\'`: pass `\\'literal\\'`, `\\'uri\\'`, or `\\'resource\\'` here to restrict to the given type of values. By default there is no restriction on the types of values that will be included.\\n- `\\'all\\'`: pass `true` here to return _all_ the resulting values as an array. By default only the first value will be returned, directly.\\n- `\\'default\\'`: the value passed here will be returned if there are no results\\n- `\\'lang\\'`: pass a language code here to restrict the results to only values matching that langauge. By default there is no restriction on the languages of values.\\n\\nThe values returned by this method are actually ValueRepresentation objects (or an array of those objects,\\nif the `\\'all\\'` option was used). To display them on a page, the simplest option is to use the `asHtml()`\\nmethod, which will take care of escaping text properly, as well as displaying more complex values\\nlike links or data types added by modules.\\n\\n```md-code__content\\necho $item->value(\\'dcterms:subject\\'); // Print the first Dublin Core Subject for $item\\n\\n// Print all the Subject values marked as being in Spanish\\n$values = $item->value(\\'dcterms:subject\\', [\\'all\\' => true, \\'lang\\' => \\'es\\']);\\nforeach ($values as $value) { echo $value->asHtml(); }\\n\\n```\\n\\nFor \"resource\" type values (links to other Omeka S resources), `asHtml()` will produce a link\\nto the resource. If you\\'re looking to do more than simply make the default link, the method\\n`valueResource()` will return the resource the value is linking to. Then you can use that\\nresult like any other item, set, or media representation. `valueResource()` returns null for\\nother kinds of values or if the linked resource can\\'t be found.\\n\\n```md-code__content\\n// Print the creator of a resource linked via the Dublin Core Relation property\\n$relatedResource = $item->value(\\'dcterms:relation\\')->valueResource();\\nif ($relatedResource) {\\n    echo $relatedResource->value(\\'dcterms:creator\\');\\n}\\n\\n```\\n\\n#### All Properties [\\uf0c1](\\\\#all-properties \"Permanent link\")\\n\\nOften on \"show\" pages for resources, you want to display _all_ the values, no matter\\ntheir property. The method `displayValues` provides this functionality.\\n\\n`displayValues` optionally takes an array of options as its only argument. There is\\ncurrently one option:\\n\\n- `\\'viewName\\'`: the name of a different partial to use than the default\\n\\nThe output returned by `displayValues` is themable: the partial is\\n`common/resource-values.phtml`.\\n\\n### Other Resource Data [\\uf0c1](\\\\#other-resource-data \"Permanent link\")\\n\\nBeyond the values, there is other common resource data you might need to access, and each\\npiece generally has its own method.\\n\\n- `resourceClass` and `resourceTemplate` get you the Representations for the class and template\\nfor this resource, if any, respectively. To more simply print the resource class\\'s label,\\nthere is a convenience method `displayResourceClassLabel`. It takes an optional default\\nfallback value, like `displayTitle` and `displayDescription`.\\n- `owner` gets the Representation for the user that owns the resource, if any.\\n- `isPublic` returns a boolean marking whether the resource is public.\\n- `created` and `modified` return PHP DateTime objects for the dates the resource was created\\nand last modified, respectively. The `$this->i18n()->dateFormat()` helper is useful for\\nprinting and localizing dates.\\n- `values` simply returns an array of all the values for the resource, grouped by property,\\nwith the properties\\' Representations and any alternate labels or comments imposed by the\\nresource template included.\\n- `subjectValues`, `subjectValueTotalCount`, and `subjectProperties` are used by the interface\\nfor showing values that link to this resource.\\n\\n## Item-specific methods [\\uf0c1](\\\\#item-specific-methods \"Permanent link\")\\n\\n- `media` returns all the media assigned to the item, as an array of MediaRepresentations\\n- `itemSets` returns all the item sets the item is in, as an array of ItemSetRepresentations\\n\\n## Item set-specific methods [\\uf0c1](\\\\#item-set-specific-methods \"Permanent link\")\\n\\n- `itemCount` returns the number of items in the set\\n- `isOpen` returns a boolean indicating if the set is open for additions\\n\\n## Media-specific methods [\\uf0c1](\\\\#media-specific-methods \"Permanent link\")\\n\\n- `render` returns HTML for displaying the media. An array of options can be passed.\\n- `originalUrl` returns the URL to the original version of the file in Omeka S\\'s file storage\\n(if there is an original file)\\n- `thumbnailUrl` returns the URL to a thumbnail of the media. The type of thumbnail must be\\npassed as the only argument. A fallback thumbnail URL will be returned if the media\\nhas no thumbnails stored. (Users should generally use the `thumbnail` view helper rather\\nthan this method directly.)\\n- `thumbnailUrls` returns an array of all the thumbnail URLs for this media, with the keys\\nbeing the thumbnail types and the values being the URLs.\\n- `ingester` returns the ingester used when adding this media. `ingesterLabel` returns a\\nhuman-readable label for the ingester.\\n- `renderer` returns the renderer used for this media\\n- `mediaData` returns additional data stored for the media. This differs from media type to\\nmedia type, and many store no extra data at all.\\n- `source` returns the source of the media, usually a filename or URL it was retrieved from\\n- `mediaType` returns the media type (also known as MIME type) for the original file, if any\\n- `sha256` returns the SHA-256 hash of the original file, if any\\n- `size` returns the size of the original file, if any, in bytes (added in Omeka S 1.2.0)\\n- `storageId` and `extension` return the randomized filename and file extension used for the\\nfile in Omeka storage, if any. `filename` returns these two combined with a period, forming\\nthe full as-stored filename. `storageId` may exist for media with no original file stored if\\nthere are thumbnails\\n- `hasOriginal` returns a boolean indicating whether an original file is stored for this media\\n- `hasThumbnails` returns a boolean indicating whether thumbnails are stored for this media\\n- `lang` returns the declared language code for this media, if any\\n- `item` returns the parent item of this media, as an ItemRepresentation')], [Document(metadata={'title': 'API Reference - Omeka S Developer Documentation', 'language': 'en', 'ogLocaleAlternate': [], 'sourceURL': 'https://omeka.org/s/docs/developer/api/api_reference/', 'statusCode': 200}, page_content='\\n\\n# API Reference [\\uf0c1](\\\\#api-reference \"Permanent link\")\\n\\n## API search parameters [\\uf0c1](\\\\#api-search-parameters \"Permanent link\")\\n\\nYou can filter a search and control its output by passing search parameters in the\\n`$data` argument (PHP API) or in the URL query string (REST API).\\n\\n### Common parameters [\\uf0c1](\\\\#common-parameters \"Permanent link\")\\n\\nThese are the search parameters that are common to almost all API resources:\\n\\n| Parameter | Description | Type | Default |\\n| --- | --- | --- | --- |\\n| id | Limit matches to the given ID or IDs. Multiple IDs can be specified using the PHP array syntax ( `id[]`). (added in 3.0.0) | integer or integer\\\\[\\\\] | none |\\n| sort\\\\_by | Sort the result set by this field | string | created |\\n| sort\\\\_order | Sort the result set in this order, ascending (\"asc\") or descending (\"desc\") | string | desc |\\n| page | The page number of the result set to return | integer | 1 |\\n| per\\\\_page | The number of results per page | integer | uses [global \"results per page\" setting](https://omeka.org/s/docs/user-manual/admin/settings/#general) |\\n| limit | The number of results to return | integer | 0 (all) |\\n| offset | The number offset of results to return | integer | 0 (no offset) |\\n\\n### Parameters for RDF resources [\\uf0c1](\\\\#parameters-for-rdf-resources \"Permanent link\")\\n\\nThese are the search parameters that are common to all RDF resources (items, media,\\nitem\\\\_sets):\\n\\n| Parameter | Description | Type |\\n| --- | --- | --- |\\n| fulltext\\\\_search | Get RDF resources where there\\'s a match in the fulltext index | string |\\n| search | Get RDF resources where there\\'s an exact match in a value | string |\\n| owner\\\\_id | Get RDF resources that belong to this owner | integer |\\n| resource\\\\_class\\\\_label | Get RDF resources with a class that has this unique label | string |\\n| resource\\\\_class\\\\_id | Get RDF resources with a class that has this unique identifier | integer |\\n| resource\\\\_template\\\\_id | Get RDF resources with a template that has this unique identifier | integer |\\n| is\\\\_public | Get RDF resources that are public OR private | boolean |\\n\\nRDF resources also feature a fine-grained value search using the parameter key `property` and this query format:\\n\\n- `property[{index}][joiner]`: Boolean joiner with previous query (valid options are `and`, `or`; default is `and`)\\n- `property[{index}][property]`: property ID or term name (e.g., `dcterms:title`)\\n  - You can also provide `0` as the property ID here to search across all values regardless of property\\n- `property[{index}][text]`: search text\\n- `property[{index}][type]`: search type\\n  - eq: is exactly\\n  - in: contains\\n  - sw: starts with\\n  - ew: ends with\\n  - res: links to the Omeka S resource with the given ID\\n  - ex: has any value (this search type does not require passing `text`)\\n  - All the types can be negated by prefixing them with the letter `n`. So, `neq` will return resources that do _not_ have a value that exactly matches the search text.\\n\\n### Parameters for items [\\uf0c1](\\\\#parameters-for-items \"Permanent link\")\\n\\n| Parameter | Description | Type |\\n| --- | --- | --- |\\n| item\\\\_set\\\\_id | Get items assigned to this item set. Pass an array of IDs (PHP-style) to return items in any one of the given sets. | integer (or array of integers) |\\n| site\\\\_id | Get items in this site\\'s item pool | integer |\\n| site\\\\_attachments\\\\_only | When using site\\\\_id, whether items must be attached to a site page block | bool |\\n\\n### Parameters for media [\\uf0c1](\\\\#parameters-for-media \"Permanent link\")\\n\\n| Parameter | Description | Type |\\n| --- | --- | --- |\\n| item\\\\_id | Get media assigned to this item | integer |\\n| media\\\\_type | Get media of this media type | string |\\n| site\\\\_id | Get media in this site\\'s item pool AND are attached to a block | integer |\\n| ingester | Get media using this ingester (added in 3.0.0) | string |\\n| renderer | Get media using this renderer (added in 3.0.0) | string |\\n\\n### Parameters for item\\\\_sets [\\uf0c1](\\\\#parameters-for-item_sets \"Permanent link\")\\n\\n| Parameter | Description | Type |\\n| --- | --- | --- |\\n| is\\\\_open | Get item sets that are open or closed | bool |\\n| site\\\\_id | Get item sets in this site\\'s item set pool | integer |\\n\\n### Parameters for vocabularies [\\uf0c1](\\\\#parameters-for-vocabularies \"Permanent link\")\\n\\n| Parameter | Description | Type |\\n| --- | --- | --- |\\n| owner\\\\_id | Get vocabularies belonging to this owner | integer |\\n| namespace\\\\_uri | Get a vocabulary that has this unique namespace URI (e.g. \"http://purl.org/dc/terms/\") | string |\\n| prefix | Get a vocabulary that has this unique namespace prefix (e.g. \"dcterms\") | string |\\n\\n### Parameters for resource\\\\_classes [\\uf0c1](\\\\#parameters-for-resource_classes \"Permanent link\")\\n\\n| Parameter | Description | Type |\\n| --- | --- | --- |\\n| owner\\\\_id | Get classes that belong to this owner | integer |\\n| vocabulary\\\\_id | Get classes that belong to a vocabulary that has this unique identifier | integer |\\n| vocabulary\\\\_namespace\\\\_uri | Get classes that belong to a vocabulary that has this unique namespace URI (e.g. \"http://purl.org/dc/dcmitype/\") | string |\\n| vocabulary\\\\_prefix | Get classes that belong to a vocabulary that has this unique namespace prefix (e.g. \"dcmitype\") | string |\\n| local\\\\_name | Get classes with this local name (e.g. \"Image\") | string |\\n| term | Get a class with this unique term (e.g. \"dcmitype:Image\") | string |\\n| used | Only get classes used by at least one resource (added in 3.0.0) | boolean |\\n\\n### Parameters for properties [\\uf0c1](\\\\#parameters-for-properties \"Permanent link\")\\n\\n| Parameter | Description | Type |\\n| --- | --- | --- |\\n| owner\\\\_id | Get properties that belong to this owner | integer |\\n| vocabulary\\\\_id | Get properties that belong to a vocabulary that has this unique identifier | integer |\\n| vocabulary\\\\_namespace\\\\_uri | Get properties that belong to a vocabulary that has this unique namespace URI (e.g. \"http://purl.org/dc/terms/\") | string |\\n| vocabulary\\\\_prefix | Get properties that belong to a vocabulary that has this unique namespace prefix (e.g. \"dcterms\") | string |\\n| local\\\\_name | Get properties with this local name (e.g. \"title\") | string |\\n| term | Get a property with this unique term (e.g. \"dcterms:title\") | string |\\n| used | Only get classes used by at least one resource (added in 3.0.0) | boolean |\\n\\n### Parameters for users [\\uf0c1](\\\\#parameters-for-users \"Permanent link\")\\n\\n| Parameter | Description | Type |\\n| --- | --- | --- |\\n| email | Get a user that has this unique email | string |\\n| name | Get users that have this name | string |\\n| role | Get users that have this role (choices are: global\\\\_admin, site\\\\_admin, editor, reviewer, author, researcher) | string |\\n| is\\\\_active | Get users that are active or inactive | bool |\\n| site\\\\_permission\\\\_site\\\\_id | Get users that have site permissions | integer |\\n\\n## API request options [\\uf0c1](\\\\#api-request-options \"Permanent link\")\\n\\nFor most resources, you can pass options that affect the execution of a request\\nin the `$options` argument. These options are only available when using the PHP\\nAPI, and are not available in the REST API.\\n\\n| Option | Type | Description | Default |\\n| --- | --- | --- | --- |\\n| initialize | bool | Set whether to initialize the request during execute() (e.g. trigger API-pre events). | `true` |\\n| finalize | bool | Set whether to finalize the request during execute() (e.g. trigger API-post events and transform response content according to the \"responseContent\" option). | `true` |\\n| returnScalar | string | Set which field/column to return as an array of scalars during a SEARCH request. The request will not finalize when this option is set. | `false` |\\n| isPartial | bool | Set whether this is a partial UPDATE request (aka PATCH). | `false` |\\n| collectionAction | string | Set which action to take on certain collections during a partial UPDATE request:<br>- `\"replace\"`: the passed data replaces the collection<br>- `\"append\"`: append passed data to collections<br>- `\"remove\"`: remove passed data from collections | `\"replace\"` |\\n| continueOnError | bool | Set whether a BATCH\\\\_CREATE operation should continue processing on error. | `false` |\\n| flushEntityManager | bool | Set whether to flush the entity manager during CREATE, UPDATE, and DELETE. | `true` |\\n| responseContent | string | Set the type of content the API response should contain. Default is \"representation\". The types are:<br>- `\"representation\"`: an API resource representation<br>- `\"reference\"`: an API resource reference<br>- `\"resource\"`: an API resource | `\"representation\"` |')], [Document(metadata={'title': 'REST API Reference - Omeka S Developer Documentation', 'language': 'en', 'ogLocaleAlternate': [], 'sourceURL': 'https://omeka.org/s/docs/developer/api/rest_api_reference/', 'statusCode': 200}, page_content='\\n\\n# REST API Reference [\\uf0c1](\\\\#rest-api-reference \"Permanent link\")\\n\\n## Resource Values [\\uf0c1](\\\\#resource-values \"Permanent link\")\\n\\nThe main \"resource\" types (item, item set, media) have store their user-editable\\nmetadata as \"resource values.\"\\n\\nEvery value has an associated [data type](../../modules/data_types/) that governs\\nhow the value is displayed in the web UI, how it is stored in the database,\\nand how it is rendered to and ingested from JSON-LD.\\n\\nIn the Omeka S API\\'s JSON-LD, resource values are represented as \"top-level\" arrays\\nof objects, where each object represents a single value:\\n\\n```md-code__content\\n{\\n    \"dcterms:title\": [\\\\\\n        {\\\\\\n            \"type\": \"literal\",\\\\\\n            \"property_id\": 1,\\\\\\n            \"property_label\": \"Title\",\\\\\\n            \"is_public\": true,\\\\\\n            \"@value\": \"Example First Title\"\\\\\\n        },\\\\\\n        {\\\\\\n            \"type\": \"literal\",\\\\\\n            \"property_id\": 1,\\\\\\n            \"property_label\": \"Title\",\\\\\\n            \"is_public\": true,\\\\\\n            \"@value\": \"Example Second Title\"\\\\\\n        }\\\\\\n    ]\\n}\\n\\n```\\n\\nThe values output by the REST API are grouped by property\\n(note the top-level `dcterms:title` key in the example above).\\n\\n### Common Value Properties [\\uf0c1](\\\\#common-value-properties \"Permanent link\")\\n\\nSeveral object properties are common to all data types:\\n\\n- `type`: ( **required**, string) Declares the data type of the value.\\nBuilt-in types are `literal`, `uri`, `resource`, `resource:item`,\\n`resource:itemset`, `resource:media`, and others can be added by modules.\\n- `property_id`: ( **required**, number or string) Internal Omeka S ID for the property\\nthis value is associated with. Property IDs can be reused from API output or\\ndiscovered via the `api/properties` endpoint. Since Omeka S 4.0.0, passing the string\\n`auto` here will use the property matching the term used in the containing array\\'s key\\n(i.e, in the example above, it will look up and use the correct property ID for\\n`dcterms:title`)\\n- `is_public`: (boolean) Whether this value is marked as private (only visible\\nto the resource\\'s creator and to users with high-level permissions). Values\\nwill be marked public if this property is not provided on input.\\n- `property_label`: (read-only, string) The human-readable name of the associated property.\\nThis is included in the JSON output for the convenience of consumers but is\\nignored completely on incoming data.\\n\\n### Literal Value Properties [\\uf0c1](\\\\#literal-value-properties \"Permanent link\")\\n\\nLiteral values (type `literal`) are plain text.\\n\\n- `@value`: ( **required**, string) The text of the value.\\n- `@language`: (string) The language of this text.\\nLanguages should be specified as [BCP 47](https://www.w3.org/International/articles/language-tags/) codes.\\n\\n### URI Value Properties [\\uf0c1](\\\\#uri-value-properties \"Permanent link\")\\n\\nURI values (type `uri`) repesent links to other resources external to the Omeka S system.\\n\\n- `@id` ( **required**, string) The URI being linked to.\\n- `o:label`: (string) A human-readable label for the link, which will be\\ndisplayed as the link text in the web UI.\\n\\n### Resource Value Properties [\\uf0c1](\\\\#resource-value-properties \"Permanent link\")\\n\\nResource values represent links to other resources within the same Omeka S\\ninstallation. The main type `resource` can be a link to an item or a set,\\nwhile `resource:item`, `resource:itemset`, and `resource:media` constrain the\\nvalue to linking to only items, item sets, or media, respectively.\\n\\n- `value_resource_id` ( **required**, number) The internal Omeka S ID of the\\nresource being linked to. Resource IDs are exposed as `o:id` in the API\\noutput for all resources.\\n\\nOnly `value_resource_id` is used as input to the API, but several more\\nproperties are included in the output for consumer convenience:\\n\\n- `@id` (read-only, string) The API URL for the linked resource.\\n- `value_resource_name` (read-only, string) The name of the kind of linked resource.\\n- `display_title` (read-only, string) The title of the linked resource.\\n- `thumbnail_url`, `thumbnail_title`, `thumbnail_type` (read-only, string)\\nOnly present when the linked resource has an associated piece of media. The URL\\nfor the square thumbnail, the title of the media for the thumbnail, and the\\ntype of that media, respectively.\\n- `url` (read-only, string) The URL of the resource. This value is `null` in\\nAPI output; an actual URL is only provided when JSON output is embedded in\\na web page view.')]]\n"
     ]
    }
   ],
   "source": [
    "urls = [\n",
    "    'https://omeka.org/s/docs/developer/api/',\n",
    "    'https://omeka.org/s/docs/developer/api/php_api/',\n",
    "    'https://omeka.org/s/docs/developer/api/rest_api/',\n",
    "    'https://omeka.org/s/docs/developer/api/representations/',\n",
    "    'https://omeka.org/s/docs/developer/api/api_reference/',\n",
    "    'https://omeka.org/s/docs/developer/api/rest_api_reference/'    \n",
    "]\n",
    "\n",
    "docs_list = [FireCrawlLoader(api_key=os.getenv('FIRECRAWL_API_KEY'), url=url, mode='scrape').load() for url in urls]\n",
    "print(docs_list)"
   ]
  },
  {
   "cell_type": "code",
   "execution_count": 6,
   "metadata": {},
   "outputs": [],
   "source": [
    "\n",
    "text_splitter = RecursiveCharacterTextSplitter.from_tiktoken_encoder(\n",
    "    chunk_size=300,\n",
    "    chunk_overlap=30\n",
    ")\n",
    "\n",
    "docs = [doc for sublist in docs_list for doc in sublist]\n",
    "docs_splits = text_splitter.split_documents(docs)\n",
    "\n",
    "# Filter out complex metadata and ensure proper document formatting\n",
    "filtered_docs = []\n",
    "for doc in docs_splits:\n",
    "    # Ensure the doc is an instance of Document and has a 'metadata' attribute\n",
    "    if isinstance(doc, Document) and hasattr(doc, 'metadata'):\n",
    "        clean_metadata = {k: v for k, v in doc.metadata.items() if isinstance(v, (str, int, float, bool))}\n",
    "        filtered_docs.append(Document(page_content=doc.page_content, metadata=clean_metadata))\n",
    "\n",
    "# Add to vectorDB\n",
    "vectorestore = Chroma.from_documents(\n",
    "    documents=filtered_docs,\n",
    "    collection_name=\"rag-chroma\",\n",
    "    embedding=GPT4AllEmbeddings()\n",
    ")\n",
    "\n",
    "retriever = vectorestore.as_retriever(search_kwargs={\"k\":7}) # number of relavant docs to retrieve"
   ]
  },
  {
   "cell_type": "code",
   "execution_count": 7,
   "metadata": {},
   "outputs": [],
   "source": [
    "### Retrieval Grader\n",
    "\n",
    "from langchain.prompts import PromptTemplate\n",
    "from langchain_community.chat_models import ChatOllama\n",
    "from langchain_core.output_parsers import JsonOutputParser\n",
    "\n",
    "# LLM\n",
    "llm = ChatOllama(model=local_llm, format='json', temperature=0) # format : defines the format between user and model\n",
    "\n",
    "# Llama has specific prompt style as show below\n",
    "prompt = PromptTemplate(template=\"\"\"<|begin_of_text|><|start_header_id|>system<|end_header_id|> You are a grader assessing relevance\n",
    "of a retrieved document to a user question. If the document contains keywords related to the user question,\n",
    "grade it as relevant. It does not need to be a stringent test. The goal is to filter out erroneous retrievals. \\n\n",
    "Give a binary score 'yes' or 'no' score to indicate whether the document is relevant to the question. \\n\n",
    "Provide the binary score as a JSON with a single key 'score' and no premable or explaination.\n",
    "\n",
    "<|eot_id|><|start_header_id|>user<|end_header_id|>\n",
    "Here is the retrieved document: \\n\\n {document} \\n\\n\n",
    "Here is the user question: {question} \\n <|eot_id|><|start_header_id|>assistant<|end_header_id|>\n",
    "\"\"\",\n",
    "input_variables=[\"question\", \"document\"])\n",
    "\n",
    "retrieval_grader = prompt | llm | JsonOutputParser()\n"
   ]
  },
  {
   "cell_type": "code",
   "execution_count": 8,
   "metadata": {},
   "outputs": [
    {
     "name": "stdout",
     "output_type": "stream",
     "text": [
      "Relevant question and doc result:  {'score': 'yes'}\n",
      "Irrelevant question and doc result:  {'score': 'no'}\n"
     ]
    }
   ],
   "source": [
    "### Test the retreival grader\n",
    "\n",
    "# Test 1: Something Relevant\n",
    "relevant_question = \"Give me sample PHP Api in Omeka-s?\"\n",
    "docs = retriever.invoke(relevant_question)\n",
    "relevant_doc_txt = docs[0].page_content  # check against the first doc\n",
    "print(\"Relevant question and doc result: \", retrieval_grader.invoke({\"question\": relevant_question, \"document\": relevant_doc_txt}))\n",
    "\n",
    "# Test 2: Something Relevant\n",
    "irrelevant_question = \"How to use nodejs?\"\n",
    "docs = retriever.invoke(relevant_question)\n",
    "irrelevant_doc_txt = docs[0].page_content  # check against the first doc\n",
    "print(\"Irrelevant question and doc result: \", retrieval_grader.invoke({\"question\": irrelevant_question, \"document\": irrelevant_doc_txt}))"
   ]
  },
  {
   "cell_type": "code",
   "execution_count": 9,
   "metadata": {},
   "outputs": [],
   "source": [
    "### Generate\n",
    "\n",
    "from langchain import hub\n",
    "from langchain_core.output_parsers import StrOutputParser\n",
    "\n",
    "prompt = PromptTemplate(\n",
    "    template=\"\"\"<|begin_of_text|><|start_header_id|>system<|end_header_id> You are an assistant for question-answering tasks.\n",
    "    Use the following pieces of retrieved context for more information to answer the question. If you don't know the answer, just say that you don't know.\n",
    "    Use three sentences maximum and keep the answer concise <|eot_id|><|start_header_id|>user<|end_header_id|>\n",
    "    Question: {question}\n",
    "    Context: {context}\n",
    "    Answer: <|eot_id|><|start_header_id|>assistant<|end_header_id|>\"\"\",\n",
    "    input_variables=[\"question\", \"document\"],\n",
    ")\n",
    "\n",
    "llm = ChatOllama(model=local_llm, temperature=0) # format = 'json' would give result in json\n",
    "\n",
    "def format_docs(docs):\n",
    "    return \"\\n\\n\".join(doc.page_content for doc in docs)\n",
    "\n",
    "# Chain\n",
    "rag_chain = prompt | llm | StrOutputParser()"
   ]
  },
  {
   "cell_type": "code",
   "execution_count": 19,
   "metadata": {},
   "outputs": [
    {
     "name": "stdout",
     "output_type": "stream",
     "text": [
      "I don't know. The provided context does not mention Fisk University or its president. It appears to be documentation about Omeka S, a web-based platform for curating and sharing digital collections and datasets.\n"
     ]
    }
   ],
   "source": [
    "# question = \"Give me example usage of resource_class_label api\"\n",
    "question = \"Who is the president of Fisk University?\"\n",
    "docs = retriever.invoke(question)\n",
    "generation = rag_chain.invoke({\n",
    "    \"context\": format_docs(docs), \"question\": question\n",
    "})\n",
    "print(generation) # Not a good answer because the FireCrawl's crawl output is not good."
   ]
  },
  {
   "cell_type": "code",
   "execution_count": 11,
   "metadata": {},
   "outputs": [
    {
     "name": "stdout",
     "output_type": "stream",
     "text": [
      "Beyond the values, there is other common resource data you might need to access, and each\n",
      "piece generally has its own method.\n",
      "\n",
      "- `resourceClass` and `resourceTemplate` get you the Representations for the class and template\n",
      "for this resource, if any, respectively. To more simply print the resource class's label,\n",
      "there is a convenience method `displayResourceClassLabel`. It takes an optional default\n",
      "fallback value, like `displayTitle` and `displayDescription`.\n",
      "- `owner` gets the Representation for the user that owns the resource, if any.\n",
      "- `isPublic` returns a boolean marking whether the resource is public.\n",
      "- `created` and `modified` return PHP DateTime objects for the dates the resource was created\n",
      "and last modified, respectively. The `$this->i18n()->dateFormat()` helper is useful for\n",
      "printing and localizing dates.\n",
      "- `values` simply returns an array of all the values for the resource, grouped by property,\n",
      "with the properties' Representations and any alternate labels or comments imposed by the\n",
      "resource template included.\n",
      "- `subjectValues`, `subjectValueTotalCount`, and `subjectProperties` are used by the interface\n",
      "for showing values that link to this resource.\n",
      "\n",
      "## Item-specific methods [](\\#item-specific-methods \"Permanent link\")\n",
      "\n",
      "### Resource Value Properties [](\\#resource-value-properties \"Permanent link\")\n",
      "\n",
      "Resource values represent links to other resources within the same Omeka S\n",
      "installation. The main type `resource` can be a link to an item or a set,\n",
      "while `resource:item`, `resource:itemset`, and `resource:media` constrain the\n",
      "value to linking to only items, item sets, or media, respectively.\n",
      "\n",
      "- `value_resource_id` ( **required**, number) The internal Omeka S ID of the\n",
      "resource being linked to. Resource IDs are exposed as `o:id` in the API\n",
      "output for all resources.\n",
      "\n",
      "Only `value_resource_id` is used as input to the API, but several more\n",
      "properties are included in the output for consumer convenience:\n",
      "\n",
      "# REST API Reference [](\\#rest-api-reference \"Permanent link\")\n",
      "\n",
      "## Resource Values [](\\#resource-values \"Permanent link\")\n",
      "\n",
      "The main \"resource\" types (item, item set, media) have store their user-editable\n",
      "metadata as \"resource values.\"\n",
      "\n",
      "Every value has an associated [data type](../../modules/data_types/) that governs\n",
      "how the value is displayed in the web UI, how it is stored in the database,\n",
      "and how it is rendered to and ingested from JSON-LD.\n",
      "\n",
      "In the Omeka S API's JSON-LD, resource values are represented as \"top-level\" arrays\n",
      "of objects, where each object represents a single value:\n",
      "\n",
      "Do not confuse \"API resources\" and \"RDF resources.\" RDF resources are resources\n",
      "that can be described and semantically linked using RDF vocabularies. The only RDF\n",
      "resources in Omeka are items, media, and item sets. (See [Resource Description Framework](https://en.wikipedia.org/wiki/Resource_Description_Framework).)\n",
      "\n",
      "## Resources [](\\#resources \"Permanent link\")\n",
      "\n",
      "Omeka comes with the following API resources:\n",
      "\n",
      "| Resource | Description |\n",
      "| --- | --- |\n",
      "| users | Users who have login credentials |\n",
      "| vocabularies | RDF vocabularies imported into Omeka |\n",
      "| resource\\_classes | RDF classes that belong to vocabularies |\n",
      "| properties | RDF properties that belong to vocabularies |\n",
      "| items | Item RDF resources, the building blocks of Omeka |\n",
      "| media | Media RDF resources that belong to items |\n",
      "| item\\_sets | Item set RDF resources, inclusive set of items |\n",
      "| resource\\_templates | Templates that define how to describe RDF resources |\n",
      "| sites | Omeka sites, the public components of Omeka |\n",
      "| site\\_pages | Pages within sites |\n",
      "| modules | Modules that extend Omeka fuctionality (search and read access only) |\n",
      "| api\\_resources | API resources available on this install (search and read access only) |\n",
      "\n",
      "These are the search parameters that are common to all RDF resources (items, media,\n",
      "item\\_sets):\n",
      "\n",
      "| Parameter | Description | Type |\n",
      "| --- | --- | --- |\n",
      "| fulltext\\_search | Get RDF resources where there's a match in the fulltext index | string |\n",
      "| search | Get RDF resources where there's an exact match in a value | string |\n",
      "| owner\\_id | Get RDF resources that belong to this owner | integer |\n",
      "| resource\\_class\\_label | Get RDF resources with a class that has this unique label | string |\n",
      "| resource\\_class\\_id | Get RDF resources with a class that has this unique identifier | integer |\n",
      "| resource\\_template\\_id | Get RDF resources with a template that has this unique identifier | integer |\n",
      "| is\\_public | Get RDF resources that are public OR private | boolean |\n",
      "\n",
      "RDF resources also feature a fine-grained value search using the parameter key `property` and this query format:\n",
      "\n",
      "# API Reference [](\\#api-reference \"Permanent link\")\n",
      "\n",
      "## API search parameters [](\\#api-search-parameters \"Permanent link\")\n",
      "\n",
      "You can filter a search and control its output by passing search parameters in the\n",
      "`$data` argument (PHP API) or in the URL query string (REST API).\n",
      "\n",
      "### Common parameters [](\\#common-parameters \"Permanent link\")\n",
      "\n",
      "These are the search parameters that are common to almost all API resources:\n"
     ]
    }
   ],
   "source": [
    "print(format_docs(docs))"
   ]
  },
  {
   "cell_type": "code",
   "execution_count": 12,
   "metadata": {},
   "outputs": [],
   "source": [
    "from langchain_community.tools.tavily_search import TavilySearchResults\n",
    "web_search_tool = TavilySearchResults(k=3)"
   ]
  },
  {
   "cell_type": "code",
   "execution_count": 20,
   "metadata": {},
   "outputs": [],
   "source": [
    "### Hallucinatin Grader\n",
    "\n",
    "llm = ChatOllama(model=local_llm, format='json', temperatur=0)\n",
    "\n",
    "prompt = PromptTemplate(\n",
    "    template=\"\"\"<|begin_of_text|><|start_header_id|>system<|end_header_id|> You are a grader assessing whether\n",
    "an answer is grounded in / supported by a set of facts. Give a binary score 'yes' or 'no' score to indicate\n",
    "whether the answer is grounded in / supported by a set of facts. Provide the binary score as a JSON with a\n",
    "single key 'score' and no preamble or explanation. <|eot_id|><|start_header_id|>user<|end_header_id|>\n",
    "\n",
    "Here are the facts:\n",
    "\\n --------- \\n\n",
    "{documents}\n",
    "\\n --------- \\n\n",
    "Here is the answer: {generation} <|eot_id|><|start_header_id|>assistant<|end_header_id|>\"\"\",\n",
    "input_variables=[\"generation\", \"documents\"],\n",
    ")\n",
    "\n",
    "hallucination_grader = prompt | llm | JsonOutputParser()"
   ]
  },
  {
   "cell_type": "code",
   "execution_count": 21,
   "metadata": {},
   "outputs": [
    {
     "data": {
      "text/plain": [
       "{'score': 'no'}"
      ]
     },
     "execution_count": 21,
     "metadata": {},
     "output_type": "execute_result"
    }
   ],
   "source": [
    "hallucination_grader.invoke(({\"documents\": docs, \"generation\": generation}))"
   ]
  },
  {
   "cell_type": "code",
   "execution_count": 22,
   "metadata": {},
   "outputs": [],
   "source": [
    "### Answer Grader\n",
    "\n",
    "# LLM\n",
    "llm = ChatOllama(model=local_llm, format=\"json\", temperature=0)\n",
    "\n",
    "# Prompt\n",
    "prompt = PromptTemplate(\n",
    "    template=\"\"\"<|begin_of_text|><|start_header_id|>system<|end_header_id|> You are a grader assessing whether an answer is useful to resolve a question. \n",
    "    Give a binary score 'yes' or 'no' to indicate whether the answer is useful to resolve a question. Provide the binary score as a JSON with a single key 'score' and no preamble or explanation.\n",
    "    <|eot_id|><|start_header_id|>user<|end_header_id|> Here is the answer:\n",
    "    \\n -------- \\n\n",
    "    {generation}\n",
    "    \\n -------- \\n\n",
    "    Here is the question: {question} <|eot_id|><|start_header_id|>assistant<|end_header_id|>\"\"\",\n",
    "    input_variables=[\"generation\", \"question\"])\n",
    "\n",
    "answer_grader = prompt | llm | JsonOutputParser()"
   ]
  },
  {
   "cell_type": "markdown",
   "metadata": {},
   "source": [
    "### Agent"
   ]
  },
  {
   "cell_type": "code",
   "execution_count": 23,
   "metadata": {},
   "outputs": [
    {
     "data": {
      "text/plain": [
       "{'score': 'no'}"
      ]
     },
     "execution_count": 23,
     "metadata": {},
     "output_type": "execute_result"
    }
   ],
   "source": [
    "answer_grader.invoke({\"question\": question, \"generation\": generation})"
   ]
  },
  {
   "cell_type": "code",
   "execution_count": 49,
   "metadata": {},
   "outputs": [],
   "source": [
    "from typing_extensions import TypedDict\n",
    "from typing import List\n",
    "\n",
    "\n",
    "### State\n",
    "class GraphState(TypedDict):\n",
    "    \"\"\"\"\n",
    "    Represents the state of our graph\n",
    "\n",
    "    Attributes:\n",
    "        question: question\n",
    "        generation: LLM generation\n",
    "        web_search: whether to search in web for documents\n",
    "        documents: list of documents\n",
    "    \"\"\"\n",
    "\n",
    "    question: str\n",
    "    generation: str\n",
    "    web_search: bool\n",
    "    documents: List[str]\n",
    "\n",
    "\n",
    "### Nodes\n",
    "def retrieve(state):\n",
    "    \"\"\"\n",
    "    Retrieve documents from vectorstore\n",
    "\n",
    "    Args:\n",
    "        state (dict): The current graph state\n",
    "    \n",
    "    Returns:\n",
    "        state (dict): New key added to state, documents, that contains retrieved documents\n",
    "    \"\"\"\n",
    "    print(\"--RETRIEVE--\")\n",
    "    question = state[\"question\"]\n",
    "\n",
    "    # Retrieval\n",
    "    documents = retriever.invoke(question)\n",
    "    return {\"documents\": documents, \"question\": question}\n",
    "\n",
    "def grade_documents(state):\n",
    "    \"\"\"\n",
    "    Determines whether the retrieved documents are relevant to the question If any document is not relevant, we\n",
    "    will set a flag to run web search\n",
    "\n",
    "    Args:\n",
    "        state (dict): The current graph state\n",
    "    \n",
    "    Returns:\n",
    "        state (dict): Filtered out irrelevant documents and updated web_search state\n",
    "    \"\"\"\n",
    "    print(\"--CHECK DOCUMENT RELEVANCE TO QUESTION--\")\n",
    "    question = state[\"question\"]\n",
    "    documents = state[\"documents\"]\n",
    "\n",
    "    # Score each docs\n",
    "    filtered_docs = []\n",
    "    web_search = False\n",
    "\n",
    "    for doc in documents:\n",
    "        score = retrieval_grader.invoke({\"question\": question, \"document\": doc.page_content})\n",
    "        grade = score['score']\n",
    "        \n",
    "        # Check document relevant\n",
    "        if grade.lower() == \"yes\":\n",
    "            print(\"--GRADE: DOCUMENT RELEVANT--\")\n",
    "            filtered_docs.append(doc)\n",
    "        \n",
    "        # Document not relevant\n",
    "        else:\n",
    "            print(\"--GRADE: DOCUMENT NOT RELEVANT--\")\n",
    "            # Avoid adding to the filtered docs list\n",
    "            web_search = True\n",
    "            continue\n",
    "\n",
    "    return {\"documents\": filtered_docs, \"question\": question, \"web_search\": web_search}\n",
    "\n",
    "\n",
    "def generate(state):\n",
    "    \"\"\"\n",
    "    Generate answer using RAG on retrieved documents\n",
    "\n",
    "    Args:\n",
    "        state (dict): The current graph state\n",
    "    \n",
    "    Returns:\n",
    "        state (dict): New key added to state, generation, that contains LLM generation\n",
    "    \"\"\"\n",
    "    print(\"--GENERATE--\")\n",
    "    question = state[\"question\"]\n",
    "    documents = state[\"documents\"]\n",
    "\n",
    "    # RAG Generation\n",
    "    generation = rag_chain.invoke({\"context\": documents, \"question\": question})\n",
    "    return {\"documents\": documents, \"question\": question, \"generation\": generation}\n",
    "    \n",
    "\n",
    "def web_search(state):\n",
    "    \"\"\"\n",
    "    Web search based on the question\n",
    "\n",
    "    Args:\n",
    "        state (dict): The current graph state\n",
    "    \n",
    "    Returns:\n",
    "        state (dict): Appended web results to documents\n",
    "    \"\"\"\n",
    "\n",
    "    print(\"--WEB SEARCH--\")\n",
    "    question = state[\"question\"]\n",
    "    documents = state[\"documents\"]\n",
    "\n",
    "    # Web search\n",
    "    docs = web_search_tool.invoke({\"query\": question})\n",
    "    web_results = \"\\n\".join([doc[\"content\"] for doc in docs])\n",
    "    web_results = Document(page_content=web_results)\n",
    "    if documents is not None:\n",
    "        documents.append(web_results)\n",
    "    else:\n",
    "        documents = [web_results]\n",
    "    \n",
    "    return {\"documents\": documents, \"question\": question}\n",
    "\n",
    "\n",
    "### Conditional edge\n",
    "\n",
    "def decide_to_generate(state):\n",
    "    \"\"\"\n",
    "    Determine whether to generate an answer, or add web search\n",
    "    Args:\n",
    "        state (dict): The current graph state\n",
    "    \n",
    "    Returns:\n",
    "        str: Decision for next node\n",
    "    \"\"\"\n",
    "\n",
    "    print(\"--ACCESS GRADED DOCUMENTS--\")\n",
    "    question = state[\"question\"]\n",
    "    web_search = state[\"web_search\"]\n",
    "    filtered_docs = state[\"documents\"]\n",
    "\n",
    "    if web_search:\n",
    "        # All documents have been filtered check_relance\n",
    "        # we will re-generate a new query\n",
    "\n",
    "        print(\"--DECISION: ALL DECISIONS ARE NOT RELEVANT TO QUESTION, INCLUDE WEB SEARCH --\")\n",
    "        return \"websearch\"\n",
    "    else:\n",
    "        # We have relevant documents, so generate answer\n",
    "        print(\"--DECISION: GENERATE--\")\n",
    "        return \"generate\"\n",
    "\n",
    "### Conditional edge\n",
    "\n",
    "def grade_generation_v_documents_and_question(state):\n",
    "    \"\"\"\n",
    "    Checks for the hallucination in the LLM generation\n",
    "     Args:\n",
    "        state (dict): The current graph state\n",
    "    \n",
    "    Returns:\n",
    "        str: Result of hallucination for the LLM generation\n",
    "    \"\"\"\n",
    "\n",
    "    print(\"--CHECK HALLUCINATIONS--\")\n",
    "    question = state[\"question\"]\n",
    "    documents = state[\"documents\"]\n",
    "    generation = state[\"generation\"]\n",
    "\n",
    "    score = hallucination_grader.invoke({\"documents\": documents, \"generation\": generation})\n",
    "    grade = score[\"score\"]\n",
    "\n",
    "    # Check hallucination\n",
    "    if grade.lower() == \"yes\":\n",
    "        print(\"--DECISION: GENERATION IS GROUNDED IN DOCUMENTS--\")\n",
    "\n",
    "        # Check question-answering\n",
    "        print(\"--GRADE GENERATION vs QUESTION--\")\n",
    "        score = answer_grader.invoke({\"question\": question, \"generation\": generation})\n",
    "        grade = score[\"score\"]\n",
    "        if grade.lower() == \"yes\":\n",
    "            print(\"--DECISION: GENERATION ADDRESSES QUESTION---\")\n",
    "            return \"useful\"\n",
    "        else:\n",
    "            print(\"--DECISION: GENERATION DOES NOT ADDRESS QUESTION--\")\n",
    "            return \"not useful\"\n",
    "    else:\n",
    "        print(\"--DECISION: GENERATION IS NOT GROUNDED IN DOCUMENTS, RE-TRY--\")\n",
    "        return \"not supported\"\n",
    "        "
   ]
  },
  {
   "cell_type": "code",
   "execution_count": 50,
   "metadata": {},
   "outputs": [
    {
     "data": {
      "text/plain": [
       "<langgraph.graph.state.StateGraph at 0x17765c050>"
      ]
     },
     "execution_count": 50,
     "metadata": {},
     "output_type": "execute_result"
    }
   ],
   "source": [
    "from langgraph.graph import START, END, StateGraph\n",
    "workflow = StateGraph(GraphState)\n",
    "\n",
    "# Define nodes\n",
    "workflow.add_node(\"websearch\", web_search)\n",
    "workflow.add_node(\"retrieve\", retrieve)\n",
    "workflow.add_node(\"grade_documents\", grade_documents)\n",
    "workflow.add_node(\"generate\", generate)"
   ]
  },
  {
   "cell_type": "code",
   "execution_count": 51,
   "metadata": {},
   "outputs": [],
   "source": [
    "# Build the graph\n",
    "workflow.set_entry_point(\"retrieve\")\n",
    "workflow.add_edge(\"retrieve\", \"grade_documents\")\n",
    "workflow.add_conditional_edges(\n",
    "    \"grade_documents\",\n",
    "    decide_to_generate,\n",
    "    {\n",
    "        \"websearch\": \"websearch\",\n",
    "        \"generate\": \"generate\",\n",
    "    },\n",
    ")\n",
    "workflow.add_edge(\"websearch\", \"generate\")\n",
    "workflow.add_conditional_edges(\n",
    "    \"generate\",\n",
    "    grade_generation_v_documents_and_question,\n",
    "    {\n",
    "        \"not supported\": \"generate\",\n",
    "        \"useful\": END,\n",
    "        \"not useful\": \"websearch\"\n",
    "    },\n",
    ")\n",
    "\n",
    "custom_graph = workflow.compile()"
   ]
  },
  {
   "cell_type": "code",
   "execution_count": 52,
   "metadata": {},
   "outputs": [
    {
     "data": {
      "image/jpeg": "[encoded data removed]",
      "text/plain": [
       "<IPython.core.display.Image object>"
      ]
     },
     "metadata": {},
     "output_type": "display_data"
    }
   ],
   "source": [
    "from IPython.display import Image, display\n",
    "\n",
    "display(Image(custom_graph.get_graph(xray=True).draw_mermaid_png()))"
   ]
  },
  {
   "cell_type": "code",
   "execution_count": 53,
   "metadata": {},
   "outputs": [
    {
     "name": "stdout",
     "output_type": "stream",
     "text": [
      "--RETRIEVE--\n",
      "'Finished running: retrieve:'\n",
      "--CHECK DOCUMENT RELEVANCE TO QUESTION--\n",
      "--GRADE: DOCUMENT NOT RELEVANT--\n",
      "--GRADE: DOCUMENT NOT RELEVANT--\n",
      "--GRADE: DOCUMENT NOT RELEVANT--\n",
      "--GRADE: DOCUMENT NOT RELEVANT--\n",
      "--GRADE: DOCUMENT NOT RELEVANT--\n",
      "--GRADE: DOCUMENT NOT RELEVANT--\n",
      "--GRADE: DOCUMENT NOT RELEVANT--\n",
      "--ACCESS GRADED DOCUMENTS--\n",
      "--DECISION: ALL DECISIONS ARE NOT RELEVANT TO QUESTION, INCLUDE WEB SEARCH --\n",
      "'Finished running: grade_documents:'\n",
      "--WEB SEARCH--\n",
      "'Finished running: websearch:'\n",
      "--GENERATE--\n",
      "--CHECK HALLUCINATIONS--\n",
      "--DECISION: GENERATION IS GROUNDED IN DOCUMENTS--\n",
      "--GRADE GENERATION vs QUESTION--\n",
      "--DECISION: GENERATION ADDRESSES QUESTION---\n",
      "'Finished running: generate:'\n",
      "The current president of Fisk University is Dr. Agenia Walker Clark, according to the provided context. However, it's noted that Dr. Vann Newkirk Sr. was previously the president from February 5th onwards.\n"
     ]
    }
   ],
   "source": [
    "# Test\n",
    "\n",
    "from pprint import pprint\n",
    "inputs = {\"question\": \"Who is the president of fisk university?\"}\n",
    "\n",
    "for output in custom_graph.stream(inputs):\n",
    "    for key, value in output.items():\n",
    "        pprint(f\"Finished running: {key}:\")\n",
    "print(value[\"generation\"])"
   ]
  },
  {
   "cell_type": "code",
   "execution_count": null,
   "metadata": {},
   "outputs": [],
   "source": []
  }
 ],
 "metadata": {
  "kernelspec": {
   "display_name": "nlp-fall",
   "language": "python",
   "name": "python3"
  },
  "language_info": {
   "codemirror_mode": {
    "name": "ipython",
    "version": 3
   },
   "file_extension": ".py",
   "mimetype": "text/x-python",
   "name": "python",
   "nbconvert_exporter": "python",
   "pygments_lexer": "ipython3",
   "version": "3.12.2"
  }
 },
 "nbformat": 4,
 "nbformat_minor": 2
}
